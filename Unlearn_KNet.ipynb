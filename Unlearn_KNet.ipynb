{
 "cells": [
  {
   "cell_type": "markdown",
   "metadata": {},
   "source": [
    "# Unlearn - KarpathyNet"
   ]
  },
  {
   "cell_type": "markdown",
   "metadata": {},
   "source": [
    "* **Author** : Yalla Mahanth\n",
    "* **SR No** : 24004"
   ]
  },
  {
   "cell_type": "markdown",
   "metadata": {},
   "source": [
    "## imports"
   ]
  },
  {
   "cell_type": "code",
   "execution_count": null,
   "metadata": {},
   "outputs": [],
   "source": [
    "import torch\n",
    "import torch.nn as nn\n",
    "import torch.optim as optim\n",
    "import torch.nn.functional as F\n",
    "import torch.optim.lr_scheduler as lr_scheduler\n",
    "from torch.utils.data import DataLoader, Dataset\n",
    "\n",
    "import os\n",
    "import tqdm\n",
    "import math\n",
    "import json\n",
    "import copy \n",
    "import pickle\n",
    "import pynvml\n",
    "import argparse\n",
    "import numpy as np\n",
    "\n",
    "from tqdm import tqdm\n",
    "import matplotlib.pyplot as plt\n",
    "from datetime import datetime as dt\n",
    "import matplotlib.gridspec as gridspec"
   ]
  },
  {
   "cell_type": "code",
   "execution_count": 2,
   "metadata": {},
   "outputs": [
    {
     "name": "stdout",
     "output_type": "stream",
     "text": [
      "[>] device = cuda:3\n"
     ]
    }
   ],
   "source": [
    "def get_best_gpu(verbose = False):\n",
    "    pynvml.nvmlInit()\n",
    "    num_gpus = torch.cuda.device_count()\n",
    "\n",
    "    if num_gpus == 0:\n",
    "        if verbose :\n",
    "            print(\"[!] No CUDA devices found, running on CPU.\")\n",
    "        return 'cpu'\n",
    "\n",
    "    gpu_mem = []\n",
    "    for i in range(num_gpus):\n",
    "        handle = pynvml.nvmlDeviceGetHandleByIndex(i)\n",
    "        mem_info = pynvml.nvmlDeviceGetMemoryInfo(handle)\n",
    "        free_mem = mem_info.free\n",
    "        total_mem = mem_info.total\n",
    "        if verbose:\n",
    "            print(f\"[+] GPU {i}: Total {total_mem / 1e9:.2f} GB, Free {free_mem / 1e9:.2f} GB\")\n",
    "        gpu_mem.append((i, free_mem))\n",
    "\n",
    "    gpu_mem.sort(key=lambda x: x[1], reverse=True)\n",
    "\n",
    "    best_gpu = gpu_mem[0][0]\n",
    "    second_best_gpu = gpu_mem[1][0] if len(gpu_mem) > 1 else best_gpu\n",
    "\n",
    "    selected_gpu = second_best_gpu if best_gpu == 0 else best_gpu\n",
    "\n",
    "    pynvml.nvmlShutdown()\n",
    "    return selected_gpu\n",
    "\n",
    "def set_gpu(manual_set = None, verbose = False):\n",
    "    device_active = 'cuda' if torch.cuda.is_available() else 'cpu'\n",
    "    if device_active == 'cuda':\n",
    "        if verbose:\n",
    "            print('[+] CUDA : available')\n",
    "        try:\n",
    "            if manual_set is not None:\n",
    "                GPU_NUMBER = manual_set\n",
    "            else:\n",
    "                GPU_NUMBER = get_best_gpu(verbose)\n",
    "            if verbose:\n",
    "                print(f'[>] Current Device {torch.cuda.current_device()} -> changing it to {GPU_NUMBER}')\n",
    "            torch.cuda.set_device(GPU_NUMBER)\n",
    "            if verbose:\n",
    "                print(f'[+] Current Device {torch.cuda.current_device()}')\n",
    "        except Exception as e:\n",
    "            if verbose:\n",
    "                print(f'[-] Error Occured while changing GPU ! \\n\\n\\tERROR :{e}\\n\\n')\n",
    "                print(f'[!] CUDA ERR : Couldn\\'t change  -> using CPU {device_active = }')\n",
    "        finally: \n",
    "            pass\n",
    "        print(f'[>] device = cuda:{GPU_NUMBER}')\n",
    "    else :\n",
    "        if verbose:\n",
    "            print(f'[!] CUDA ERR : Not available -> using CPU {device_active = }')\n",
    "        print(f'[>] device = cpu')\n",
    "set_gpu()\n",
    "device = 'cuda' if torch.cuda.is_available() else 'cpu'"
   ]
  },
  {
   "cell_type": "markdown",
   "metadata": {},
   "source": [
    "## Cifar10"
   ]
  },
  {
   "cell_type": "code",
   "execution_count": 3,
   "metadata": {},
   "outputs": [
    {
     "name": "stdout",
     "output_type": "stream",
     "text": [
      "[>] CIFAR-10 Dataset\n",
      "Xtr.shape = (40000, 3072)\tytr.shape = (40000,)\n",
      "Xval.shape = (10000, 3072)\tyval.shape = (10000,)\n",
      "Xte.shape = (10000, 3072)\tyte.shape = (10000,)\n",
      "label_dict = {np.int64(0): 'airplane', np.int64(1): 'automobile', np.int64(2): 'bird', np.int64(3): 'cat', np.int64(4): 'deer', np.int64(5): 'dog', np.int64(6): 'frog', np.int64(7): 'horse', np.int64(8): 'ship', np.int64(9): 'truck'}\n"
     ]
    }
   ],
   "source": [
    "\n",
    "root_ = './'\n",
    "cifar_data_folder = f'{root_}data/cifar10/'\n",
    "\n",
    "cifar_train_batch_1_file = cifar_data_folder + 'data_batch_1'\n",
    "cifar_train_batch_2_file = cifar_data_folder + 'data_batch_2'\n",
    "cifar_train_batch_3_file = cifar_data_folder + 'data_batch_3'\n",
    "cifar_train_batch_4_file = cifar_data_folder + 'data_batch_4'\n",
    "cifar_train_batch_5_file = cifar_data_folder + 'data_batch_5'\n",
    "cifar_test_file = cifar_data_folder + 'test_batch' \n",
    "cifar_meta_data = cifar_data_folder + 'batches.meta' \n",
    "\n",
    "def unpickle(file):\n",
    "    with open(file, 'rb') as fo:\n",
    "        dict = pickle.load(fo, encoding='bytes')\n",
    "    return dict\n",
    "\n",
    "cifar_batch_1 = unpickle(cifar_train_batch_1_file) \n",
    "cifar_batch_2 = unpickle(cifar_train_batch_2_file)\n",
    "cifar_batch_3 = unpickle(cifar_train_batch_3_file)\n",
    "cifar_batch_4 = unpickle(cifar_train_batch_4_file)\n",
    "cifar_batch_5 = unpickle(cifar_train_batch_5_file)\n",
    "cifar_batch_test = unpickle(cifar_test_file)\n",
    "batches_meta = unpickle(cifar_meta_data)\n",
    "\n",
    "cifar_batch_1_data = cifar_batch_1[b'data']\n",
    "cifar_batch_1_labels = np.array(cifar_batch_1[b'labels'])\n",
    "cifar_batch_2_data = cifar_batch_2[b'data']\n",
    "cifar_batch_2_labels = np.array(cifar_batch_2[b'labels'])\n",
    "cifar_batch_3_data = cifar_batch_3[b'data']\n",
    "cifar_batch_3_labels = np.array(cifar_batch_3[b'labels'])\n",
    "cifar_batch_4_data = cifar_batch_4[b'data']\n",
    "cifar_batch_4_labels = np.array(cifar_batch_4[b'labels'])\n",
    "cifar_batch_5_data = cifar_batch_5[b'data']\n",
    "cifar_batch_5_labels = np.array(cifar_batch_5[b'labels'])\n",
    "\n",
    "cifar_batch_test_data = cifar_batch_test[b'data']\n",
    "cifar_batch_test_labels = np.array(cifar_batch_test[b'labels'])\n",
    "\n",
    "cifar_train_data = np.vstack([cifar_batch_1_data, cifar_batch_2_data, cifar_batch_3_data,cifar_batch_4_data, cifar_batch_5_data]).reshape(-1,32*32*3)\n",
    "cifar_train_labels = np.hstack([cifar_batch_1_labels, cifar_batch_2_labels, cifar_batch_3_labels,cifar_batch_4_labels, cifar_batch_5_labels])\n",
    "\n",
    "cifar_test_data = cifar_batch_test_data.reshape(-1,32*32*3)\n",
    "cifar_test_labels = cifar_batch_test_labels\n",
    "\n",
    "labels = np.unique(cifar_train_labels)\n",
    "\n",
    "cifar_label_dict = {}\n",
    "for i, label in enumerate(labels):\n",
    "    cifar_label_dict[label] = batches_meta[b'label_names'][i].decode('utf-8')\n",
    "\n",
    "def train_test_split(X,y,test_size = 0.2 , shuffle = True):\n",
    "    if shuffle:\n",
    "        mask = np.random.permutation(len(y))\n",
    "        X = X[mask]\n",
    "        y = y[mask]\n",
    "    split = len(y) - int(len(y) * test_size)\n",
    "    return X[:split],y[:split],X[split:],y[split:]\n",
    "\n",
    "Xtr,  ytr, Xval, yval = train_test_split(cifar_train_data, cifar_train_labels, test_size=0.2)\n",
    "Xte , yte = cifar_test_data, cifar_test_labels\n",
    "label_dict = cifar_label_dict\n",
    "\n",
    "print(f'[>] CIFAR-10 Dataset')\n",
    "print(f'{Xtr.shape = }\\t{ytr.shape = }')\n",
    "print(f'{Xval.shape = }\\t{yval.shape = }')\n",
    "print(f'{Xte.shape = }\\t{yte.shape = }')\n",
    "print(f'{label_dict = }')\n",
    "\n",
    "Xtr = torch.tensor(Xtr , dtype = torch.float32)\n",
    "ytr = torch.tensor(ytr , dtype = torch.float32)\n",
    "Xval = torch.tensor(Xval , dtype = torch.float32)\n",
    "yval = torch.tensor(yval , dtype = torch.float32)\n",
    "Xte = torch.tensor(Xte , dtype = torch.float32)\n",
    "yte = torch.tensor(yte , dtype = torch.float32)\n",
    "\n",
    "ytr_enc = torch.zeros(ytr.shape[0] , len(labels)) \n",
    "yval_enc = torch.zeros(yval.shape[0] , len(labels))\n",
    "yte_enc = torch.zeros(yte.shape[0] , len(labels))\n",
    "ytr_enc[torch.arange(ytr.shape[0]) , ytr.long()] = 1\n",
    "yval_enc[torch.arange(yval.shape[0]) , yval.long()] = 1\n",
    "yte_enc[torch.arange(yte.shape[0]) , yte.long()] = 1\n",
    "\n",
    "Xtr = Xtr.view(-1,3,32,32)\n",
    "Xval = Xval.view(-1,3,32,32)\n",
    "Xte = Xte.view(-1,3,32,32)\n",
    "\n",
    "device = 'cuda' if torch.cuda.is_available() else 'cpu'\n",
    "if device == 'cuda':\n",
    "    Xtr = Xtr.cuda()\n",
    "    Xval = Xval.cuda()\n",
    "    Xte = Xte.cuda()\n",
    "    ytr_enc = ytr_enc.cuda()\n",
    "    yval_enc = yval_enc.cuda()\n",
    "    yte_enc = yte_enc.cuda()\n",
    "    ytr = ytr.cuda()\n",
    "    yval = yval.cuda()\n",
    "    yte = yte.cuda()    \n",
    "\n"
   ]
  },
  {
   "cell_type": "markdown",
   "metadata": {},
   "source": [
    "## Evaluator"
   ]
  },
  {
   "cell_type": "code",
   "execution_count": 4,
   "metadata": {},
   "outputs": [],
   "source": [
    "class Evaluator:\n",
    "    \"\"\" Class to handle all the logic concerning the evaluation of trained models.  \"\"\"\n",
    "    def __init__(self, device):\n",
    "        self.device = device\n",
    "\n",
    "    @staticmethod\n",
    "    def accuracy(y_true, y_pred):\n",
    "        \"\"\" Computes the accuracy of the predictions, against a reference set of predictions. \"\"\"\n",
    "        return sum(yi_true == yi_pred for yi_true, yi_pred in zip(y_true, y_pred)) / len(y_pred)\n",
    "\n",
    "    \n",
    "    def evaluate(self, model_path, data, reference_outputs):\n",
    "        \"\"\" Performs the evaluation of a specified model over given data. \"\"\"\n",
    "        model = torch.load(os.path.join(model_path, 'model.pt'), map_location=self.device, weights_only=False)\n",
    "        model.to(self.device)\n",
    "        model.eval()\n",
    "        \n",
    "        generated_outputs = model.predict(data)\n",
    "        accuracy_score = self.accuracy(reference_outputs, generated_outputs)\n",
    "\n",
    "        print(\"[E] EVALUATION:\", \">\", \"accuracy:\", f\"{accuracy_score:.2%}\")\n",
    "        print()\n",
    "    \n",
    "    def evaluate_model(self, model, data, reference_outputs):\n",
    "        \"\"\" Performs the evaluation of a specified model over given data. \"\"\"\n",
    "        model.to(self.device)\n",
    "        model.eval()\n",
    "        \n",
    "        generated_outputs = model.predict(data)\n",
    "        accuracy_score = self.accuracy(reference_outputs, generated_outputs)\n",
    "\n",
    "        print(\"[E] EVALUATION:\", \">\", \"accuracy:\", f\"{accuracy_score:.2%}\")\n",
    "        print()\n"
   ]
  },
  {
   "cell_type": "markdown",
   "metadata": {},
   "source": [
    "## KarpathyNet"
   ]
  },
  {
   "cell_type": "code",
   "execution_count": 5,
   "metadata": {},
   "outputs": [
    {
     "data": {
      "text/plain": [
       "KarpathyNet(\n",
       "  (conv11): Conv2d(3, 16, kernel_size=(5, 5), stride=(1, 1), padding=(2, 2))\n",
       "  (conv12): Conv2d(16, 16, kernel_size=(5, 5), stride=(1, 1), padding=(2, 2))\n",
       "  (pool1): MaxPool2d(kernel_size=2, stride=2, padding=0, dilation=1, ceil_mode=False)\n",
       "  (conv21): Conv2d(16, 16, kernel_size=(5, 5), stride=(1, 1), padding=(2, 2))\n",
       "  (conv22): Conv2d(16, 16, kernel_size=(5, 5), stride=(1, 1), padding=(2, 2))\n",
       "  (pool2): MaxPool2d(kernel_size=2, stride=2, padding=0, dilation=1, ceil_mode=False)\n",
       "  (conv31): Conv2d(16, 16, kernel_size=(5, 5), stride=(1, 1), padding=(2, 2))\n",
       "  (conv32): Conv2d(16, 16, kernel_size=(5, 5), stride=(1, 1), padding=(2, 2))\n",
       "  (pool3): MaxPool2d(kernel_size=2, stride=2, padding=0, dilation=1, ceil_mode=False)\n",
       "  (flatten): Flatten(start_dim=1, end_dim=-1)\n",
       "  (fc1): Linear(in_features=256, out_features=10, bias=True)\n",
       ")"
      ]
     },
     "execution_count": 5,
     "metadata": {},
     "output_type": "execute_result"
    }
   ],
   "source": [
    "\n",
    "class KarpathyNet(nn.Module):\n",
    "    \n",
    "    def __init__(self, inp_size, filters, filter_sizes, strides, paddings , num_classes, kernal_size = 2, stride = 2):\n",
    "        super(KarpathyNet,self).__init__() \n",
    "        \n",
    "        self.conv11 = nn.Conv2d(inp_size, filters, kernel_size = filter_sizes, stride = strides, padding = paddings)\n",
    "        self.conv12 = nn.Conv2d(filters, filters, kernel_size = filter_sizes, stride = strides, padding = paddings)\n",
    "        self.pool1 = nn.MaxPool2d(kernel_size = kernal_size, stride = stride)\n",
    "        self.conv21 = nn.Conv2d(filters, filters, kernel_size = filter_sizes, stride = strides, padding = paddings)\n",
    "        self.conv22 = nn.Conv2d(filters, filters, kernel_size = filter_sizes, stride = strides, padding = paddings)\n",
    "        self.pool2 = nn.MaxPool2d(kernel_size = kernal_size, stride = stride)\n",
    "        self.conv31 = nn.Conv2d(filters, filters, kernel_size = filter_sizes, stride = strides, padding = paddings)\n",
    "        self.conv32 = nn.Conv2d(filters, filters, kernel_size = filter_sizes, stride = strides, padding = paddings)\n",
    "        self.pool3 = nn.MaxPool2d(kernel_size = kernal_size, stride = stride)\n",
    "        self.fc_input = 4*4*filters\n",
    "        self.flatten = nn.Flatten()\n",
    "        self.fc1 = nn.Linear(self.fc_input, num_classes)\n",
    "        \n",
    "    def forward(self, x):\n",
    "        x = F.relu(self.conv11(x))\n",
    "        x = F.relu(self.conv12(x))\n",
    "        x = self.pool1(x)\n",
    "        x = F.relu(self.conv21(x))\n",
    "        x = F.relu(self.conv22(x))\n",
    "        x = self.pool2(x)\n",
    "        x = F.relu(self.conv31(x))\n",
    "        x = F.relu(self.conv32(x))\n",
    "        x = self.pool3(x)\n",
    "        x = self.flatten(x)\n",
    "        x = self.fc1(x)\n",
    "        return x\n",
    "    \n",
    "    def predict_proba(self, x):\n",
    "        x = self.forward(x)\n",
    "        return F.softmax(x, dim = -1)\n",
    "\n",
    "    def predict(self, x):\n",
    "        x = self.predict_proba(x)\n",
    "        return torch.argmax(x, dim = -1)\n",
    "    \n",
    "    def accuracy(self, x, y):\n",
    "        y_pred = self.predict(x)\n",
    "        return (y_pred == y).float().mean()\n",
    "    \n",
    "\n",
    "\n",
    "net_params = {\n",
    "    'inp_size': 3,\n",
    "    'filters': 16,\n",
    "    'filter_sizes': 5,\n",
    "    'strides': 1,\n",
    "    'paddings': 2,\n",
    "    'num_classes': len(labels)\n",
    "}\n",
    "model = KarpathyNet(**net_params)\n",
    "model"
   ]
  },
  {
   "cell_type": "code",
   "execution_count": 6,
   "metadata": {},
   "outputs": [
    {
     "name": "stdout",
     "output_type": "stream",
     "text": [
      "[>] loadin ./models/KarpathyNet_v1_fine/checkpoint-156250\n"
     ]
    },
    {
     "data": {
      "text/plain": [
       "<All keys matched successfully>"
      ]
     },
     "execution_count": 6,
     "metadata": {},
     "output_type": "execute_result"
    },
    {
     "data": {
      "text/plain": [
       "KarpathyNet(\n",
       "  (conv11): Conv2d(3, 16, kernel_size=(5, 5), stride=(1, 1), padding=(2, 2))\n",
       "  (conv12): Conv2d(16, 16, kernel_size=(5, 5), stride=(1, 1), padding=(2, 2))\n",
       "  (pool1): MaxPool2d(kernel_size=2, stride=2, padding=0, dilation=1, ceil_mode=False)\n",
       "  (conv21): Conv2d(16, 16, kernel_size=(5, 5), stride=(1, 1), padding=(2, 2))\n",
       "  (conv22): Conv2d(16, 16, kernel_size=(5, 5), stride=(1, 1), padding=(2, 2))\n",
       "  (pool2): MaxPool2d(kernel_size=2, stride=2, padding=0, dilation=1, ceil_mode=False)\n",
       "  (conv31): Conv2d(16, 16, kernel_size=(5, 5), stride=(1, 1), padding=(2, 2))\n",
       "  (conv32): Conv2d(16, 16, kernel_size=(5, 5), stride=(1, 1), padding=(2, 2))\n",
       "  (pool3): MaxPool2d(kernel_size=2, stride=2, padding=0, dilation=1, ceil_mode=False)\n",
       "  (flatten): Flatten(start_dim=1, end_dim=-1)\n",
       "  (fc1): Linear(in_features=256, out_features=10, bias=True)\n",
       ")"
      ]
     },
     "execution_count": 6,
     "metadata": {},
     "output_type": "execute_result"
    }
   ],
   "source": [
    "net_name = 'KarpathyNet'\n",
    "version_name = 'v1_fine'\n",
    "directory = f'./models/{net_name}_{version_name}'\n",
    "\n",
    "\n",
    "if checkpoints := os.listdir(directory):\n",
    "    last_checkpoint = max(map(lambda x: int(x[11:]), filter(lambda x: 'checkpoint-' in x, checkpoints)))\n",
    "    checkpoint_dir = os.path.join(directory, f\"checkpoint-{last_checkpoint}\")\n",
    "    print(f'[>] loadin {checkpoint_dir}')\n",
    "    model.load_state_dict(torch.load(os.path.join(checkpoint_dir, \"model.pt\"),map_location=device))\n",
    "    model.to(device)"
   ]
  },
  {
   "cell_type": "code",
   "execution_count": 7,
   "metadata": {},
   "outputs": [
    {
     "name": "stdout",
     "output_type": "stream",
     "text": [
      "[E] EVALUATION: > accuracy: 72.36%\n",
      "\n"
     ]
    }
   ],
   "source": [
    "evaluator = Evaluator(device)\n",
    "evaluator.evaluate_model(model,Xte, yte)"
   ]
  },
  {
   "cell_type": "code",
   "execution_count": 8,
   "metadata": {},
   "outputs": [],
   "source": [
    "target_class = 7"
   ]
  },
  {
   "cell_type": "code",
   "execution_count": 9,
   "metadata": {},
   "outputs": [],
   "source": [
    "Xte_wo7 = Xte[yte != target_class]\n",
    "yte_wo7 = yte[yte != target_class]"
   ]
  },
  {
   "cell_type": "markdown",
   "metadata": {},
   "source": [
    "## Class Impressoins"
   ]
  },
  {
   "cell_type": "code",
   "execution_count": 10,
   "metadata": {},
   "outputs": [],
   "source": [
    "target_class = 7"
   ]
  },
  {
   "cell_type": "code",
   "execution_count": 11,
   "metadata": {},
   "outputs": [],
   "source": [
    "class ImpressionDataset(Dataset):\n",
    "    def __init__(self, data_tensor):\n",
    "        self.data = data_tensor\n",
    "    def __len__(self):\n",
    "        return self.data.shape[0]\n",
    "    def __getitem__(self, idx):\n",
    "        return self.data[idx]\n"
   ]
  },
  {
   "cell_type": "markdown",
   "metadata": {},
   "source": [
    "### Get impressions\n"
   ]
  },
  {
   "cell_type": "code",
   "execution_count": 12,
   "metadata": {},
   "outputs": [
    {
     "data": {
      "text/plain": [
       "KarpathyNet(\n",
       "  (conv11): Conv2d(3, 16, kernel_size=(5, 5), stride=(1, 1), padding=(2, 2))\n",
       "  (conv12): Conv2d(16, 16, kernel_size=(5, 5), stride=(1, 1), padding=(2, 2))\n",
       "  (pool1): MaxPool2d(kernel_size=2, stride=2, padding=0, dilation=1, ceil_mode=False)\n",
       "  (conv21): Conv2d(16, 16, kernel_size=(5, 5), stride=(1, 1), padding=(2, 2))\n",
       "  (conv22): Conv2d(16, 16, kernel_size=(5, 5), stride=(1, 1), padding=(2, 2))\n",
       "  (pool2): MaxPool2d(kernel_size=2, stride=2, padding=0, dilation=1, ceil_mode=False)\n",
       "  (conv31): Conv2d(16, 16, kernel_size=(5, 5), stride=(1, 1), padding=(2, 2))\n",
       "  (conv32): Conv2d(16, 16, kernel_size=(5, 5), stride=(1, 1), padding=(2, 2))\n",
       "  (pool3): MaxPool2d(kernel_size=2, stride=2, padding=0, dilation=1, ceil_mode=False)\n",
       "  (flatten): Flatten(start_dim=1, end_dim=-1)\n",
       "  (fc1): Linear(in_features=256, out_features=10, bias=True)\n",
       ")"
      ]
     },
     "execution_count": 12,
     "metadata": {},
     "output_type": "execute_result"
    }
   ],
   "source": [
    "model"
   ]
  },
  {
   "cell_type": "code",
   "execution_count": null,
   "metadata": {},
   "outputs": [
    {
     "data": {
      "text/plain": [
       "{'conv11': {'input': (1, 3, 32, 32), 'output': (1, 16, 32, 32)},\n",
       " 'conv12': {'input': (1, 16, 32, 32), 'output': (1, 16, 32, 32)},\n",
       " 'pool1': {'input': (1, 16, 32, 32), 'output': (1, 16, 16, 16)},\n",
       " 'conv21': {'input': (1, 16, 16, 16), 'output': (1, 16, 16, 16)},\n",
       " 'conv22': {'input': (1, 16, 16, 16), 'output': (1, 16, 16, 16)},\n",
       " 'pool2': {'input': (1, 16, 16, 16), 'output': (1, 16, 8, 8)},\n",
       " 'conv31': {'input': (1, 16, 8, 8), 'output': (1, 16, 8, 8)},\n",
       " 'conv32': {'input': (1, 16, 8, 8), 'output': (1, 16, 8, 8)},\n",
       " 'pool3': {'input': (1, 16, 8, 8), 'output': (1, 16, 4, 4)},\n",
       " 'flatten': {'input': (1, 16, 4, 4), 'output': (1, 256)},\n",
       " 'fc1': {'input': (1, 256), 'output': (1, 10)},\n",
       " '': {'input': (1, 3, 32, 32), 'output': (1, 10)}}"
      ]
     },
     "execution_count": 13,
     "metadata": {},
     "output_type": "execute_result"
    }
   ],
   "source": [
    "def record_layer_io_shapes(model, input_shape=(1, 3, 32, 32), device='cuda'):\n",
    "    io_shapes = {}\n",
    "    hooks = []\n",
    "\n",
    "    def make_hook(name):\n",
    "        def hook(module, input, output):\n",
    "            io_shapes[name] = {\n",
    "                'input': tuple(input[0].shape),\n",
    "                'output': tuple(output.shape)\n",
    "            }\n",
    "        return hook\n",
    "\n",
    "    model.eval().to(device)\n",
    "\n",
    "    for name, module in model.named_modules():\n",
    "        if isinstance(module, torch.nn.Module):\n",
    "            hooks.append(module.register_forward_hook(make_hook(name)))\n",
    "\n",
    "    dummy_input = torch.randn(*input_shape).to(device)\n",
    "    with torch.no_grad():\n",
    "        model(dummy_input)\n",
    "\n",
    "    for h in hooks:\n",
    "        h.remove()\n",
    "    return io_shapes\n",
    "\n",
    "layer_sizes = record_layer_io_shapes(model)\n",
    "layer_sizes"
   ]
  },
  {
   "cell_type": "code",
   "execution_count": 14,
   "metadata": {},
   "outputs": [],
   "source": [
    "def generate_class_impression_from_activation(model, target_class, layer_name, init_mode='kaiming', num_steps=300, lr=0.1, device='cuda', verbose = False):\n",
    "    model.eval().to(device)\n",
    "\n",
    "    io_shapes = record_layer_io_shapes(model, device=device)\n",
    "    if layer_name not in io_shapes:\n",
    "        raise ValueError(f\"Layer '{layer_name}' not found.\")\n",
    "\n",
    "    activation_shape = io_shapes[layer_name]['input']\n",
    "    if verbose:\n",
    "        print(f\"[+] Shape of activation at input to '{layer_name}': {activation_shape}\")\n",
    "\n",
    "    act_tensor = torch.empty(activation_shape, requires_grad=True, device=device)\n",
    "    if init_mode == 'kaiming':\n",
    "        torch.nn.init.kaiming_normal_(act_tensor)\n",
    "    elif init_mode == 'xavier':\n",
    "        torch.nn.init.xavier_normal_(act_tensor)\n",
    "    elif init_mode == 'normal':\n",
    "        torch.nn.init.normal_(act_tensor, mean=0.0, std=0.02)\n",
    "    else:\n",
    "        raise ValueError(f\"Unsupported init mode: {init_mode}\")\n",
    "\n",
    "    optimizer = torch.optim.Adam([act_tensor], lr=lr)\n",
    "\n",
    "    found = False\n",
    "    tail_layers = []\n",
    "    for name, module in model.named_modules():\n",
    "        if name == layer_name:\n",
    "            found = True\n",
    "        if found and isinstance(module, torch.nn.Module) and name != '':\n",
    "            tail_layers.append(module)\n",
    "    if not tail_layers:\n",
    "        raise RuntimeError(f\"No layers found after {layer_name} to build tail model.\")\n",
    "\n",
    "    tail_net = torch.nn.Sequential(*tail_layers).to(device)\n",
    "\n",
    "\n",
    "    for step in range(num_steps):\n",
    "        optimizer.zero_grad()\n",
    "        output = tail_net(act_tensor)\n",
    "        target_score = output[0, target_class]\n",
    "        loss = -target_score\n",
    "        loss.backward()\n",
    "        optimizer.step()\n",
    "\n",
    "        if step % 50 == 0 and verbose:\n",
    "            print(f\"[{step:03d}] Class {target_class} score: {target_score.item():.4f}\")\n",
    "\n",
    "    final_scores = tail_net(act_tensor)\n",
    "    softmaxes = F.softmax(final_scores, dim=-1)\n",
    "    max_ele = torch.argmax(softmaxes)\n",
    "    if verbose :\n",
    "        print(f'{softmaxes = }\\n{max_ele = }')\n",
    "    \n",
    "    return act_tensor.detach(), activation_shape , max_ele.item()\n",
    "\n",
    "\n",
    "# LAYER_NAME = 'pool1'\n",
    "# TARGET_CLS = 7\n",
    "# activation, shape, max_ele = generate_class_impression_from_activation( \n",
    "#     model, \n",
    "#     target_class=TARGET_CLS, \n",
    "#     layer_name=LAYER_NAME, \n",
    "#     init_mode='kaiming', \n",
    "#     num_steps= 1000\n",
    "# )"
   ]
  },
  {
   "cell_type": "code",
   "execution_count": 15,
   "metadata": {},
   "outputs": [
    {
     "name": "stdout",
     "output_type": "stream",
     "text": [
      "layer = 'conv11' max_ele = 0\n",
      "layer = 'conv12' max_ele = 0\n",
      "layer = 'pool1' max_ele = 0\n",
      "layer = 'conv21' max_ele = 0\n",
      "layer = 'conv22' max_ele = 0\n",
      "layer = 'pool2' max_ele = 4\n",
      "layer = 'conv31' max_ele = 4\n",
      "layer = 'conv32' max_ele = 7\n",
      "layer = 'pool3' max_ele = 7\n",
      "layer = 'flatten' max_ele = 7\n",
      "layer = 'fc1' max_ele = 7\n"
     ]
    }
   ],
   "source": [
    "layer_names = list(layer_sizes.keys())[:-1]\n",
    "TARGET_CLS = 7\n",
    "\n",
    "for layer in layer_names:\n",
    "    activation, shape, max_ele = generate_class_impression_from_activation( \n",
    "        model, \n",
    "        target_class=TARGET_CLS, \n",
    "        layer_name=layer, \n",
    "        init_mode='xavier', \n",
    "        num_steps= 1000,\n",
    "        verbose=False\n",
    "    )\n",
    "    print(f'{layer = } {max_ele = }')\n"
   ]
  },
  {
   "cell_type": "code",
   "execution_count": 16,
   "metadata": {},
   "outputs": [],
   "source": [
    "layer_sizes = record_layer_io_shapes(model)\n",
    "layer_names = list(layer_sizes.keys())[:-1]"
   ]
  },
  {
   "cell_type": "code",
   "execution_count": 17,
   "metadata": {},
   "outputs": [
    {
     "data": {
      "text/plain": [
       "({'conv11': 0,\n",
       "  'conv12': 0,\n",
       "  'pool1': 0,\n",
       "  'conv21': 0,\n",
       "  'conv22': 0,\n",
       "  'pool2': 0,\n",
       "  'conv31': 0,\n",
       "  'conv32': 10,\n",
       "  'pool3': 10,\n",
       "  'flatten': 10,\n",
       "  'fc1': 10},\n",
       " ['conv32', 'pool3', 'flatten', 'fc1'],\n",
       " 'conv32')"
      ]
     },
     "execution_count": 17,
     "metadata": {},
     "output_type": "execute_result"
    }
   ],
   "source": [
    "target_class = 7\n",
    "n_attempts = 10\n",
    "threshold = 8/10\n",
    "first_responsive_layer = None\n",
    "\n",
    "all_responses = {}\n",
    "responsive_layers = []\n",
    "for layer in layer_names:\n",
    "    correct = 0\n",
    "    for _ in range(n_attempts):\n",
    "        _, _, max_ele = generate_class_impression_from_activation(model, target_class, layer)\n",
    "        if max_ele == target_class:\n",
    "            correct += 1\n",
    "    if correct >= threshold:\n",
    "        if first_responsive_layer is None:\n",
    "            first_responsive_layer = layer\n",
    "        responsive_layers.append(layer)\n",
    "        \n",
    "    all_responses[layer] = correct\n",
    "\n",
    "all_responses, responsive_layers, first_responsive_layer"
   ]
  },
  {
   "cell_type": "code",
   "execution_count": null,
   "metadata": {},
   "outputs": [
    {
     "name": "stdout",
     "output_type": "stream",
     "text": [
      "⏭️ Skipping non-learnable layer: pool3\n",
      "⏭️ Skipping non-learnable layer: flatten\n"
     ]
    },
    {
     "data": {
      "text/plain": [
       "['conv32', 'fc1']"
      ]
     },
     "execution_count": 18,
     "metadata": {},
     "output_type": "execute_result"
    }
   ],
   "source": [
    "def get_learnable_layers(model, responsive_layers):\n",
    "    learnable_layers = []\n",
    "\n",
    "    for layer_name in responsive_layers:\n",
    "        has_params = False\n",
    "        for name, param in model.named_parameters():\n",
    "            if layer_name in name and param.requires_grad and param.numel() > 0:\n",
    "                has_params = True\n",
    "                break\n",
    "        if has_params:\n",
    "            learnable_layers.append(layer_name)\n",
    "        else:\n",
    "            print(f\"[⏭] Skipping non-learnable layer: {layer_name}\")\n",
    "    \n",
    "    return learnable_layers\n",
    "\n",
    "learnable_layers = get_learnable_layers(model, responsive_layers)\n",
    "learnable_layers"
   ]
  },
  {
   "cell_type": "markdown",
   "metadata": {},
   "source": [
    "Note : we can choose any responsive layers which is which is common for all the forget examples ( but for sake of experiment and simplicity, let it be last fc layer)"
   ]
  },
  {
   "cell_type": "code",
   "execution_count": 19,
   "metadata": {},
   "outputs": [],
   "source": [
    "first_responsive_layer = 'fc1'"
   ]
  },
  {
   "cell_type": "code",
   "execution_count": 20,
   "metadata": {},
   "outputs": [],
   "source": [
    "os.makedirs(f'{directory}/class_impressions/',exist_ok=True)"
   ]
  },
  {
   "cell_type": "code",
   "execution_count": 21,
   "metadata": {},
   "outputs": [],
   "source": [
    "def generate_class_impression_dataset(model, target_class, layer_name,  num_samples=500, init_mode='kaiming', num_steps=300, lr=0.1, device='cuda'):\n",
    "    all_activations = []\n",
    "    eps = 1e-9\n",
    "    while len(all_activations) < num_samples:\n",
    "        impression, shape, max_ele = generate_class_impression_from_activation(model, target_class=target_class, layer_name=layer_name, init_mode=init_mode, num_steps=num_steps, lr=lr, device = device)\n",
    "        if max_ele == target_class:\n",
    "            for s in all_activations:\n",
    "                if torch.norm(s - impression) < eps:\n",
    "                    break\n",
    "            else:\n",
    "                all_activations.append(impression)\n",
    "\n",
    "    stacked_tensor = torch.cat(all_activations, dim=0)\n",
    "    save_path = f'{directory}/class_impressions/{layer_name}_class_{target_class}_{num_samples}.pt'\n",
    "    torch.save(stacked_tensor, save_path)\n",
    "    \n",
    "    return save_path"
   ]
  },
  {
   "cell_type": "code",
   "execution_count": 22,
   "metadata": {},
   "outputs": [
    {
     "name": "stdout",
     "output_type": "stream",
     "text": [
      "Saved dataset to ./models/KarpathyNet_v1_fine/class_impressions/fc1_class_7_100.pt\n"
     ]
    }
   ],
   "source": [
    "\n",
    "TARGET_CLS = 7\n",
    "NUM_SAMPLES = 100\n",
    "LAYER_FROM = first_responsive_layer\n",
    "INIT_MODE = 'xavier'\n",
    "STEPS_PER_SAMPLE = 1000\n",
    "LEARN_RATE = 0.1\n",
    "\n",
    "# path = generate_class_impression_dataset(\n",
    "#     model=model,\n",
    "#     target_class= TARGET_CLS,\n",
    "#     layer_name= LAYER_FROM,\n",
    "#     num_samples= NUM_SAMPLES,\n",
    "#     init_mode   = INIT_MODE,\n",
    "#     num_steps   = STEPS_PER_SAMPLE,\n",
    "#     lr          = LEARN_RATE,\n",
    "#     device      = device\n",
    "# )\n",
    "\n",
    "# print(f\"Saved dataset to {path}\")"
   ]
  },
  {
   "cell_type": "markdown",
   "metadata": {},
   "source": [
    "#### genrate Cis"
   ]
  },
  {
   "cell_type": "code",
   "execution_count": 23,
   "metadata": {},
   "outputs": [
    {
     "name": "stdout",
     "output_type": "stream",
     "text": [
      "[!] Class impression dataset for class 0 and layer fc1 already exists.\n",
      "[+] cls = np.int64(0) paths[cls] = './models/KarpathyNet_v1_fine/class_impressions/fc1_class_0_100.pt'\n",
      "[!] Class impression dataset for class 1 and layer fc1 already exists.\n",
      "[+] cls = np.int64(1) paths[cls] = './models/KarpathyNet_v1_fine/class_impressions/fc1_class_1_100.pt'\n",
      "[!] Class impression dataset for class 2 and layer fc1 already exists.\n",
      "[+] cls = np.int64(2) paths[cls] = './models/KarpathyNet_v1_fine/class_impressions/fc1_class_2_100.pt'\n",
      "[!] Class impression dataset for class 3 and layer fc1 already exists.\n",
      "[+] cls = np.int64(3) paths[cls] = './models/KarpathyNet_v1_fine/class_impressions/fc1_class_3_100.pt'\n",
      "[!] Class impression dataset for class 4 and layer fc1 already exists.\n",
      "[+] cls = np.int64(4) paths[cls] = './models/KarpathyNet_v1_fine/class_impressions/fc1_class_4_100.pt'\n",
      "[!] Class impression dataset for class 5 and layer fc1 already exists.\n",
      "[+] cls = np.int64(5) paths[cls] = './models/KarpathyNet_v1_fine/class_impressions/fc1_class_5_100.pt'\n",
      "[!] Class impression dataset for class 6 and layer fc1 already exists.\n",
      "[+] cls = np.int64(6) paths[cls] = './models/KarpathyNet_v1_fine/class_impressions/fc1_class_6_100.pt'\n",
      "[!] Class impression dataset for class 7 and layer fc1 already exists.\n",
      "[+] cls = np.int64(7) paths[cls] = './models/KarpathyNet_v1_fine/class_impressions/fc1_class_7_100.pt'\n",
      "[!] Class impression dataset for class 8 and layer fc1 already exists.\n",
      "[+] cls = np.int64(8) paths[cls] = './models/KarpathyNet_v1_fine/class_impressions/fc1_class_8_100.pt'\n",
      "[!] Class impression dataset for class 9 and layer fc1 already exists.\n",
      "[+] cls = np.int64(9) paths[cls] = './models/KarpathyNet_v1_fine/class_impressions/fc1_class_9_100.pt'\n",
      "{np.int64(0): './models/KarpathyNet_v1_fine/class_impressions/fc1_class_0_100.pt', np.int64(1): './models/KarpathyNet_v1_fine/class_impressions/fc1_class_1_100.pt', np.int64(2): './models/KarpathyNet_v1_fine/class_impressions/fc1_class_2_100.pt', np.int64(3): './models/KarpathyNet_v1_fine/class_impressions/fc1_class_3_100.pt', np.int64(4): './models/KarpathyNet_v1_fine/class_impressions/fc1_class_4_100.pt', np.int64(5): './models/KarpathyNet_v1_fine/class_impressions/fc1_class_5_100.pt', np.int64(6): './models/KarpathyNet_v1_fine/class_impressions/fc1_class_6_100.pt', np.int64(7): './models/KarpathyNet_v1_fine/class_impressions/fc1_class_7_100.pt', np.int64(8): './models/KarpathyNet_v1_fine/class_impressions/fc1_class_8_100.pt', np.int64(9): './models/KarpathyNet_v1_fine/class_impressions/fc1_class_9_100.pt'}\n"
     ]
    }
   ],
   "source": [
    "def generate_class_impression(model, target_class, layer_name, directory,  num_samples=500, init_mode='kaiming', num_steps=300, lr=0.1, device='cuda'):\n",
    "    save_path = f'{directory}/class_impressions/{layer_name}_class_{target_class}_{num_samples}.pt'\n",
    "    if os.path.exists(save_path):\n",
    "        print(f\"[!] Class impression dataset for class {target_class} and layer {layer_name} already exists.\")\n",
    "        return save_path\n",
    "    all_activations = []\n",
    "    eps = 1e-9\n",
    "    while len(all_activations) < num_samples:\n",
    "        impression, shape, max_ele = generate_class_impression_from_activation(model, target_class=target_class, layer_name=layer_name, init_mode=init_mode, num_steps=num_steps, lr=lr, device = device)\n",
    "        if max_ele == target_class:\n",
    "            for s in all_activations:\n",
    "                if torch.norm(s - impression) < eps:\n",
    "                    break\n",
    "            else:\n",
    "                all_activations.append(impression)\n",
    "\n",
    "    stacked_tensor = torch.cat(all_activations, dim=0)\n",
    "    torch.save(stacked_tensor, save_path)\n",
    "    \n",
    "    return save_path\n",
    "\n",
    "def generate_cis_for_all_classes(labels, model, layer_name, directory, num_samples=500, init_mode='kaiming', num_steps=300, lr=0.1, device='cuda'):\n",
    "    paths = {}\n",
    "    for cls in list(labels):    \n",
    "        paths[cls] = generate_class_impression(\n",
    "            model=model,\n",
    "            target_class=cls,\n",
    "            layer_name=layer_name,\n",
    "            directory=directory,\n",
    "            num_samples=num_samples,\n",
    "            init_mode=init_mode,\n",
    "            num_steps=num_steps,\n",
    "            lr=lr,\n",
    "            device=device \n",
    "        )\n",
    "        print(f'[+] {cls = } {paths[cls] = }')\n",
    "    return paths \n",
    "\n",
    "\n",
    "TARGET_CLS = 7\n",
    "\n",
    "net_name = 'KarpathyNet'\n",
    "version_name = 'v1_fine'\n",
    "directory = f'./models/{net_name}_{version_name}'\n",
    "\n",
    "NUM_SAMPLES = 100\n",
    "LAYER_NAME = first_responsive_layer\n",
    "INIT_MODE = 'xavier'\n",
    "STEPS_PER_SAMPLE = 1000\n",
    "LEARN_RATE = 0.1\n",
    "\n",
    "paths_cis = generate_cis_for_all_classes(\n",
    "    labels = labels,\n",
    "    model  = model,\n",
    "    directory = directory,\n",
    "    layer_name=LAYER_NAME,\n",
    "    num_samples=NUM_SAMPLES,\n",
    "    init_mode=INIT_MODE,\n",
    "    num_steps=STEPS_PER_SAMPLE,\n",
    "    lr=LEARN_RATE,\n",
    "    device=device ,\n",
    ")\n",
    "print(paths_cis)"
   ]
  },
  {
   "cell_type": "markdown",
   "metadata": {},
   "source": [
    "#### load the cis"
   ]
  },
  {
   "cell_type": "code",
   "execution_count": 24,
   "metadata": {},
   "outputs": [
    {
     "name": "stdout",
     "output_type": "stream",
     "text": [
      "{0: './models/KarpathyNet_v1_fine/class_impressions/fc1_class_0_100.pt', 1: './models/KarpathyNet_v1_fine/class_impressions/fc1_class_1_100.pt', 2: './models/KarpathyNet_v1_fine/class_impressions/fc1_class_2_100.pt', 3: './models/KarpathyNet_v1_fine/class_impressions/fc1_class_3_100.pt', 4: './models/KarpathyNet_v1_fine/class_impressions/fc1_class_4_100.pt', 5: './models/KarpathyNet_v1_fine/class_impressions/fc1_class_5_100.pt', 6: './models/KarpathyNet_v1_fine/class_impressions/fc1_class_6_100.pt', 7: './models/KarpathyNet_v1_fine/class_impressions/fc1_class_7_100.pt', 8: './models/KarpathyNet_v1_fine/class_impressions/fc1_class_8_100.pt', 9: './models/KarpathyNet_v1_fine/class_impressions/fc1_class_9_100.pt'}\n"
     ]
    }
   ],
   "source": [
    "def get_class_impression_paths(directory, layer_name, num_samples):\n",
    "    imp_folder = f'{directory}/class_impressions/'\n",
    "    paths_ = os.listdir(imp_folder)\n",
    "    paths = {}\n",
    "    for p in paths_:\n",
    "        k = p.split('_')\n",
    "        cls = int(k[-2])\n",
    "        num_samp = int(k[-1].split('.')[0])\n",
    "        layer = k[0]\n",
    "        if num_samp == num_samples and layer == layer_name:\n",
    "            paths[cls] = f'{imp_folder}{p}'\n",
    "    return paths\n",
    "\n",
    "\n",
    "directory = f'./models/{net_name}_{version_name}'\n",
    "layer_name = first_responsive_layer\n",
    "num_samples = NUM_SAMPLES\n",
    "paths = get_class_impression_paths(directory, layer_name, num_samples)\n",
    "print(paths)\n"
   ]
  },
  {
   "cell_type": "code",
   "execution_count": 25,
   "metadata": {},
   "outputs": [
    {
     "name": "stdout",
     "output_type": "stream",
     "text": [
      "X_forget.shape = torch.Size([100, 256])\ty_forget.shape = torch.Size([100])\n",
      "X_retain.shape = torch.Size([900, 256])\ty_retain.shape = torch.Size([900])\n"
     ]
    }
   ],
   "source": [
    "\n",
    "def get_datasets_from_paths(paths, target_class = target_class, labels = labels):\n",
    "    retain_impressions = []\n",
    "    retain_y = []\n",
    "    forget_impressions = []\n",
    "    forget_y = []\n",
    "    for i in list(ytr.unique()):\n",
    "        cls = int(i.item())\n",
    "        repeated_cls = torch.ones(NUM_SAMPLES , dtype = torch.long) * cls\n",
    "        if cls == target_class:\n",
    "            forget_impressions.append(torch.load(paths[cls]))\n",
    "            forget_y.append(repeated_cls)\n",
    "        else :\n",
    "            retain_impressions.append(torch.load(paths[cls]))\n",
    "            retain_y.append(repeated_cls)\n",
    "            \n",
    "    X_forget = torch.cat(forget_impressions)\n",
    "    X_retain = torch.cat(retain_impressions)\n",
    "    y_forget = torch.cat(forget_y)\n",
    "    y_retain = torch.cat(retain_y)\n",
    "\n",
    "    return X_forget, y_forget, X_retain, y_retain\n",
    "\n",
    "X_forget, y_forget, X_retain, y_retain = get_datasets_from_paths(paths)\n",
    "print(f'{X_forget.shape = }\\t{y_forget.shape = }')\n",
    "print(f'{X_retain.shape = }\\t{y_retain.shape = }')"
   ]
  },
  {
   "cell_type": "code",
   "execution_count": 26,
   "metadata": {},
   "outputs": [
    {
     "name": "stdout",
     "output_type": "stream",
     "text": [
      "X_forget.shape = torch.Size([300, 256])\ty_forget.shape = torch.Size([300])\n",
      "X_retain.shape = torch.Size([700, 256])\ty_retain.shape = torch.Size([700])\n"
     ]
    }
   ],
   "source": [
    "\n",
    "def get_datasets_from_paths_2(paths, target_classes, labels = labels):\n",
    "    retain_impressions = []\n",
    "    retain_y = []\n",
    "    forget_impressions = []\n",
    "    forget_y = []\n",
    "    for i in list(ytr.unique()):\n",
    "        cls = int(i.item())\n",
    "        repeated_cls = torch.ones(NUM_SAMPLES , dtype = torch.long , device = device) * cls\n",
    "        cls_impressions = torch.load(paths[cls]).to(device)\n",
    "        if cls in target_classes:\n",
    "            forget_impressions.append(cls_impressions)\n",
    "            forget_y.append(repeated_cls)\n",
    "        else :\n",
    "            retain_impressions.append(cls_impressions)\n",
    "            retain_y.append(repeated_cls)\n",
    "            \n",
    "    X_forget = torch.cat(forget_impressions)\n",
    "    X_retain = torch.cat(retain_impressions)\n",
    "    y_forget = torch.cat(forget_y)\n",
    "    y_retain = torch.cat(retain_y)\n",
    "\n",
    "    return X_forget, y_forget, X_retain, y_retain\n",
    "\n",
    "target_classes = {3,4,8}\n",
    "\n",
    "X_forget, y_forget, X_retain, y_retain = get_datasets_from_paths_2(paths , target_classes)\n",
    "print(f'{X_forget.shape = }\\t{y_forget.shape = }')\n",
    "print(f'{X_retain.shape = }\\t{y_retain.shape = }')"
   ]
  },
  {
   "cell_type": "code",
   "execution_count": 33,
   "metadata": {},
   "outputs": [
    {
     "data": {
      "image/png": "[encoded data removed]",
      "text/plain": [
       "<Figure size 1000x500 with 1 Axes>"
      ]
     },
     "metadata": {},
     "output_type": "display_data"
    }
   ],
   "source": [
    "def get_classs_wise_accuracies(model, Xtr, ytr):\n",
    "    accs = {}\n",
    "    for i in list(ytr.unique()):\n",
    "        cls = int(i.item())\n",
    "        mask = ytr == cls \n",
    "        X_cls = Xtr[mask]\n",
    "        y_cls = ytr[mask]\n",
    "        acc = model.accuracy(X_cls, y_cls)\n",
    "        accs[cls] = acc.item()\n",
    "    return accs\n",
    "\n",
    "def plot_class_wise_accuracies(accs):\n",
    "    plt.figure(figsize = (10,5))\n",
    "    plt.bar(accs.keys(), accs.values())\n",
    "    plt.xlabel('Classes')\n",
    "    plt.ylabel('Accuracy')\n",
    "    plt.title('Class wise accuracies')\n",
    "    plt.xticks(list(accs.keys()))\n",
    "    plt.show()\n",
    "    \n",
    "    \n",
    "def plot_compare_class_wise_accuracies(accs1, accs2, text = ''):\n",
    "    plt.figure(figsize = (10,5))\n",
    "    plt.bar(np.array(list(accs1.keys())) - 0.2, accs1.values(), width = 0.4, label = 'Original Model')\n",
    "    plt.bar(np.array(list(accs2.keys())) + 0.2, accs2.values(), width = 0.4, label = 'Unlearned Model')\n",
    "    plt.xlabel('Classes')\n",
    "    plt.ylabel('Accuracy')\n",
    "    plt.title(f'Class wise accuracies {text}')\n",
    "    plt.legend()\n",
    "    plt.xticks(list(accs1.keys()))\n",
    "    plt.show()\n",
    "\n",
    "plot_class_wise_accuracies(get_classs_wise_accuracies(model, Xtr, ytr))"
   ]
  },
  {
   "cell_type": "markdown",
   "metadata": {},
   "source": [
    "## unlearn from CI's"
   ]
  },
  {
   "cell_type": "code",
   "execution_count": 28,
   "metadata": {},
   "outputs": [
    {
     "data": {
      "text/plain": [
       "'fc1'"
      ]
     },
     "execution_count": 28,
     "metadata": {},
     "output_type": "execute_result"
    },
    {
     "data": {
      "text/plain": [
       "Sequential(\n",
       "  (0): Linear(in_features=256, out_features=10, bias=True)\n",
       ")"
      ]
     },
     "execution_count": 28,
     "metadata": {},
     "output_type": "execute_result"
    }
   ],
   "source": [
    "def get_tail_from_layer(model,layer_name):\n",
    "    found = False\n",
    "    tail_layers = []\n",
    "    for name, module in model.named_modules():\n",
    "        if name == layer_name:\n",
    "            found = True\n",
    "        if found and isinstance(module, torch.nn.Module) and name != '':\n",
    "            tail_layers.append(module)\n",
    "    tail_net = torch.nn.Sequential(*tail_layers)\n",
    "    return tail_net\n",
    "first_responsive_layer\n",
    "get_tail_from_layer(model, first_responsive_layer)"
   ]
  },
  {
   "cell_type": "code",
   "execution_count": 29,
   "metadata": {},
   "outputs": [
    {
     "name": "stdout",
     "output_type": "stream",
     "text": [
      "X_forget.shape = torch.Size([300, 256]) torch.Size([300]) \n",
      "X_retain.shape = torch.Size([700, 256]) torch.Size([700])\n"
     ]
    }
   ],
   "source": [
    "print(f'{X_forget.shape = } {y_forget.shape} \\n{X_retain.shape = } {y_retain.shape}')"
   ]
  },
  {
   "cell_type": "markdown",
   "metadata": {},
   "source": [
    "## ZeroShotUnlearner - Promissing Results"
   ]
  },
  {
   "cell_type": "code",
   "execution_count": null,
   "metadata": {},
   "outputs": [
    {
     "name": "stdout",
     "output_type": "stream",
     "text": [
      "len(X_forget_dataset) = 300, len(X_retain_dataset) = 700\n",
      "first_responsive_layer = 'fc1'\n",
      "✅ Frozen layers before and including: fc1\n",
      "Epoch [   10/ 1000] | Forget Loss: 1115.696716 | Retain Loss: 2327.841328\n",
      "Epoch [   20/ 1000] | Forget Loss: 1114.977600 | Retain Loss: 2328.851212\n",
      "Epoch [   30/ 1000] | Forget Loss: 1114.274254 | Retain Loss: 2329.476517\n",
      "Epoch [   40/ 1000] | Forget Loss: 1112.864094 | Retain Loss: 2330.979183\n",
      "Epoch [   50/ 1000] | Forget Loss: 1112.180588 | Retain Loss: 2331.955872\n",
      "Epoch [   60/ 1000] | Forget Loss: 1111.359600 | Retain Loss: 2332.356499\n",
      "Epoch [   70/ 1000] | Forget Loss: 1110.287685 | Retain Loss: 2333.718239\n",
      "Epoch [   80/ 1000] | Forget Loss: 1109.246975 | Retain Loss: 2334.354279\n",
      "Epoch [   90/ 1000] | Forget Loss: 1108.459702 | Retain Loss: 2335.639931\n",
      "Epoch [  100/ 1000] | Forget Loss: 1107.317558 | Retain Loss: 2335.719028\n",
      "Epoch [  110/ 1000] | Forget Loss: 1106.783237 | Retain Loss: 2337.602074\n",
      "Epoch [  120/ 1000] | Forget Loss: 1105.506592 | Retain Loss: 2338.163593\n",
      "Epoch [  130/ 1000] | Forget Loss: 1105.139175 | Retain Loss: 2338.727520\n",
      "Epoch [  140/ 1000] | Forget Loss: 1103.798122 | Retain Loss: 2339.361019\n",
      "Epoch [  150/ 1000] | Forget Loss: 1103.328300 | Retain Loss: 2340.339771\n",
      "Epoch [  160/ 1000] | Forget Loss: 1101.945114 | Retain Loss: 2341.681870\n",
      "Epoch [  170/ 1000] | Forget Loss: 1101.183254 | Retain Loss: 2341.985950\n",
      "Epoch [  180/ 1000] | Forget Loss: 1100.349751 | Retain Loss: 2343.393108\n",
      "Epoch [  190/ 1000] | Forget Loss: 1099.598431 | Retain Loss: 2344.178452\n",
      "Epoch [  200/ 1000] | Forget Loss: 1099.279675 | Retain Loss: 2344.883835\n",
      "Epoch [  210/ 1000] | Forget Loss: 1097.895798 | Retain Loss: 2345.222473\n",
      "Epoch [  220/ 1000] | Forget Loss: 1096.852753 | Retain Loss: 2347.035622\n",
      "Epoch [  230/ 1000] | Forget Loss: 1095.996162 | Retain Loss: 2347.353741\n",
      "Epoch [  240/ 1000] | Forget Loss: 1095.580990 | Retain Loss: 2348.142086\n",
      "Epoch [  250/ 1000] | Forget Loss: 1094.875191 | Retain Loss: 2348.545410\n",
      "Epoch [  260/ 1000] | Forget Loss: 1093.648350 | Retain Loss: 2349.852306\n",
      "Epoch [  270/ 1000] | Forget Loss: 1093.251385 | Retain Loss: 2350.844109\n",
      "Epoch [  280/ 1000] | Forget Loss: 1092.205097 | Retain Loss: 2351.540752\n",
      "Epoch [  290/ 1000] | Forget Loss: 1091.238365 | Retain Loss: 2352.057903\n",
      "Epoch [  300/ 1000] | Forget Loss: 1090.922024 | Retain Loss: 2352.894859\n",
      "Epoch [  310/ 1000] | Forget Loss: 1089.720497 | Retain Loss: 2353.167492\n",
      "Epoch [  320/ 1000] | Forget Loss: 1088.935978 | Retain Loss: 2354.732849\n",
      "Epoch [  330/ 1000] | Forget Loss: 1088.052116 | Retain Loss: 2355.108601\n",
      "Epoch [  340/ 1000] | Forget Loss: 1087.604076 | Retain Loss: 2355.820194\n",
      "Epoch [  350/ 1000] | Forget Loss: 1086.617741 | Retain Loss: 2356.008163\n",
      "Epoch [  360/ 1000] | Forget Loss: 1086.138775 | Retain Loss: 2357.655361\n",
      "Epoch [  370/ 1000] | Forget Loss: 1084.980213 | Retain Loss: 2358.019470\n",
      "Epoch [  380/ 1000] | Forget Loss: 1084.279964 | Retain Loss: 2358.817413\n",
      "Epoch [  390/ 1000] | Forget Loss: 1083.775494 | Retain Loss: 2359.351383\n",
      "Epoch [  400/ 1000] | Forget Loss: 1083.018307 | Retain Loss: 2360.816383\n",
      "Epoch [  410/ 1000] | Forget Loss: 1082.173996 | Retain Loss: 2361.594688\n",
      "Epoch [  420/ 1000] | Forget Loss: 1081.488289 | Retain Loss: 2361.343334\n",
      "Epoch [  430/ 1000] | Forget Loss: 1080.624619 | Retain Loss: 2362.824928\n",
      "Epoch [  440/ 1000] | Forget Loss: 1080.269611 | Retain Loss: 2363.866783\n",
      "Epoch [  450/ 1000] | Forget Loss: 1079.596134 | Retain Loss: 2364.566658\n",
      "Epoch [  460/ 1000] | Forget Loss: 1078.474792 | Retain Loss: 2364.352684\n",
      "Epoch [  470/ 1000] | Forget Loss: 1077.966545 | Retain Loss: 2365.721786\n",
      "Epoch [  480/ 1000] | Forget Loss: 1077.258148 | Retain Loss: 2366.855087\n",
      "Epoch [  490/ 1000] | Forget Loss: 1076.617939 | Retain Loss: 2367.190792\n",
      "Epoch [  500/ 1000] | Forget Loss: 1075.527897 | Retain Loss: 2367.346245\n",
      "Epoch [  510/ 1000] | Forget Loss: 1075.283100 | Retain Loss: 2368.691158\n",
      "Epoch [  520/ 1000] | Forget Loss: 1074.526657 | Retain Loss: 2369.182026\n",
      "Epoch [  530/ 1000] | Forget Loss: 1073.504166 | Retain Loss: 2369.547749\n",
      "Epoch [  540/ 1000] | Forget Loss: 1072.978043 | Retain Loss: 2370.331013\n",
      "Epoch [  550/ 1000] | Forget Loss: 1072.197182 | Retain Loss: 2371.100262\n",
      "Epoch [  560/ 1000] | Forget Loss: 1071.588844 | Retain Loss: 2371.259865\n",
      "Epoch [  570/ 1000] | Forget Loss: 1071.189384 | Retain Loss: 2372.474758\n",
      "Epoch [  580/ 1000] | Forget Loss: 1070.406200 | Retain Loss: 2372.984756\n",
      "Epoch [  590/ 1000] | Forget Loss: 1069.628090 | Retain Loss: 2373.736446\n",
      "Epoch [  600/ 1000] | Forget Loss: 1069.100670 | Retain Loss: 2374.242477\n",
      "Epoch [  610/ 1000] | Forget Loss: 1068.292934 | Retain Loss: 2374.683140\n",
      "Epoch [  620/ 1000] | Forget Loss: 1067.900799 | Retain Loss: 2375.629738\n",
      "Epoch [  630/ 1000] | Forget Loss: 1066.816025 | Retain Loss: 2376.395065\n",
      "Epoch [  640/ 1000] | Forget Loss: 1065.981277 | Retain Loss: 2376.994724\n",
      "Epoch [  650/ 1000] | Forget Loss: 1065.744415 | Retain Loss: 2377.277485\n",
      "Epoch [  660/ 1000] | Forget Loss: 1065.239693 | Retain Loss: 2378.116699\n",
      "Epoch [  670/ 1000] | Forget Loss: 1064.314674 | Retain Loss: 2378.551510\n",
      "Epoch [  680/ 1000] | Forget Loss: 1063.639359 | Retain Loss: 2379.649448\n",
      "Epoch [  690/ 1000] | Forget Loss: 1063.084160 | Retain Loss: 2379.575668\n",
      "Epoch [  700/ 1000] | Forget Loss: 1062.451405 | Retain Loss: 2380.609768\n",
      "Epoch [  710/ 1000] | Forget Loss: 1061.735550 | Retain Loss: 2381.080559\n",
      "Epoch [  720/ 1000] | Forget Loss: 1061.073204 | Retain Loss: 2382.090042\n",
      "Epoch [  730/ 1000] | Forget Loss: 1060.698841 | Retain Loss: 2382.456757\n",
      "Epoch [  740/ 1000] | Forget Loss: 1060.199055 | Retain Loss: 2382.867245\n",
      "Epoch [  750/ 1000] | Forget Loss: 1059.651600 | Retain Loss: 2383.559303\n",
      "Epoch [  760/ 1000] | Forget Loss: 1059.119331 | Retain Loss: 2384.532219\n",
      "Epoch [  770/ 1000] | Forget Loss: 1058.772778 | Retain Loss: 2384.408787\n",
      "Epoch [  780/ 1000] | Forget Loss: 1057.770023 | Retain Loss: 2385.197475\n",
      "Epoch [  790/ 1000] | Forget Loss: 1057.354904 | Retain Loss: 2385.544495\n",
      "Epoch [  800/ 1000] | Forget Loss: 1056.668541 | Retain Loss: 2386.378899\n",
      "Epoch [  810/ 1000] | Forget Loss: 1056.218819 | Retain Loss: 2387.010239\n",
      "Epoch [  820/ 1000] | Forget Loss: 1055.684811 | Retain Loss: 2387.706879\n",
      "Epoch [  830/ 1000] | Forget Loss: 1055.348389 | Retain Loss: 2388.618603\n",
      "Epoch [  840/ 1000] | Forget Loss: 1054.489082 | Retain Loss: 2389.271423\n",
      "Epoch [  850/ 1000] | Forget Loss: 1054.031353 | Retain Loss: 2389.635624\n",
      "Epoch [  860/ 1000] | Forget Loss: 1053.110462 | Retain Loss: 2389.995644\n",
      "Epoch [  870/ 1000] | Forget Loss: 1052.580029 | Retain Loss: 2390.444942\n",
      "Epoch [  880/ 1000] | Forget Loss: 1052.245358 | Retain Loss: 2391.030010\n",
      "Epoch [  890/ 1000] | Forget Loss: 1051.762531 | Retain Loss: 2391.505302\n",
      "Epoch [  900/ 1000] | Forget Loss: 1051.000954 | Retain Loss: 2392.205505\n",
      "Epoch [  910/ 1000] | Forget Loss: 1050.630558 | Retain Loss: 2392.958305\n",
      "Epoch [  920/ 1000] | Forget Loss: 1049.964695 | Retain Loss: 2393.593964\n",
      "Epoch [  930/ 1000] | Forget Loss: 1049.338226 | Retain Loss: 2394.240398\n",
      "Epoch [  940/ 1000] | Forget Loss: 1048.909565 | Retain Loss: 2394.666470\n",
      "Epoch [  950/ 1000] | Forget Loss: 1048.394421 | Retain Loss: 2395.149204\n",
      "Epoch [  960/ 1000] | Forget Loss: 1047.740257 | Retain Loss: 2394.913994\n",
      "Epoch [  970/ 1000] | Forget Loss: 1047.517258 | Retain Loss: 2395.741642\n",
      "Epoch [  980/ 1000] | Forget Loss: 1046.701847 | Retain Loss: 2396.038151\n",
      "Epoch [  990/ 1000] | Forget Loss: 1046.367592 | Retain Loss: 2397.051071\n",
      "Epoch [ 1000/ 1000] | Forget Loss: 1046.036655 | Retain Loss: 2397.217350\n",
      "[E] EVALUATION: > accuracy: 72.36%\n",
      "\n",
      "[E] EVALUATION: > accuracy: 56.16%\n",
      "\n"
     ]
    },
    {
     "data": {
      "image/png": "[encoded data removed]",
      "text/plain": [
       "<Figure size 1000x500 with 1 Axes>"
      ]
     },
     "metadata": {},
     "output_type": "display_data"
    }
   ],
   "source": [
    "class ZeroShotUnlearner:\n",
    "    def __init__(self, model, forget_loader, retain_loader,\n",
    "                 first_responsive_layer_string,\n",
    "                 forget_loss_weight=0.9, retain_loss_weight=0.1,\n",
    "                 lr=1e-4, device='cuda', clip_grad=5.0):\n",
    "        self.device = device\n",
    "        self.model = model.to(device)\n",
    "        self.forget_loader = forget_loader\n",
    "        self.retain_loader = retain_loader\n",
    "        self.forget_loss_weight = forget_loss_weight\n",
    "        self.retain_loss_weight = retain_loss_weight\n",
    "        self.clip_grad = clip_grad\n",
    "\n",
    "        self.tail_model = self._get_tail_model(first_responsive_layer_string).to(device)\n",
    "\n",
    "        self._freeze_before(first_responsive_layer_string)\n",
    "\n",
    "        self.optimizer = optim.AdamW(self.tail_model.parameters(), lr=lr)\n",
    "        self.criterion = nn.CrossEntropyLoss(label_smoothing=0.1)\n",
    "\n",
    "    def _get_tail_model(self, layer_string):\n",
    "        modules = []\n",
    "        include = False\n",
    "        for name, module in self.model.named_children():\n",
    "            if layer_string in name:\n",
    "                include = True\n",
    "            if include:\n",
    "                modules.append(module)\n",
    "        if not modules:\n",
    "            raise ValueError(f\"[-] No modules found from '{layer_string}' onward.\")\n",
    "        return nn.Sequential(*modules)\n",
    "\n",
    "    def _freeze_before(self, layer_string):\n",
    "        freeze = True\n",
    "        for name, param in self.model.named_parameters():\n",
    "            if freeze:\n",
    "                param.requires_grad = False\n",
    "            if layer_string in name:\n",
    "                freeze = False\n",
    "        print(f\"[+] Frozen layers before and including: {layer_string}\")\n",
    "\n",
    "    def unlearn(self, epochs=10):\n",
    "        self.model.eval()\n",
    "        self.tail_model.train()\n",
    "\n",
    "        for ep in range(epochs):\n",
    "            total_f_loss, total_r_loss = 0.0, 0.0\n",
    "\n",
    "            for x_f, y_f in self.forget_loader:\n",
    "                x_f, y_f = x_f.to(self.device), y_f.to(self.device)\n",
    "                out_f = self.tail_model(x_f)\n",
    "                loss_f = self.criterion(out_f, y_f)\n",
    "\n",
    "                loss =  self.forget_loss_weight * loss_f\n",
    "\n",
    "                self.optimizer.zero_grad()\n",
    "                loss.backward()\n",
    "                nn.utils.clip_grad_norm_(self.tail_model.parameters(), self.clip_grad)\n",
    "                self.optimizer.step()\n",
    "\n",
    "                total_f_loss += loss_f.item()\n",
    "\n",
    "            for x_r, y_r in self.retain_loader:\n",
    "                x_r, y_r = x_r.to(self.device), y_r.to(self.device)\n",
    "                out_r = self.tail_model(x_r)\n",
    "                loss_r = self.criterion(out_r, y_r)\n",
    "\n",
    "                loss = - self.retain_loss_weight * loss_r\n",
    "                \n",
    "                self.optimizer.zero_grad()\n",
    "                loss.backward()\n",
    "                nn.utils.clip_grad_norm_(self.tail_model.parameters(), self.clip_grad)\n",
    "                self.optimizer.step()\n",
    "\n",
    "                total_r_loss += loss_r.item()\n",
    "            if (ep+1) % 10 == 0:\n",
    "                print(f\"Epoch [{ep+1:5d}/{epochs:5d}] | Forget Loss: {total_f_loss:.6f} | Retain Loss: {total_r_loss:.6f}\")\n",
    "\n",
    "        return self.tail_model\n",
    "\n",
    "\n",
    "\n",
    "u_model = copy.deepcopy(model)\n",
    "BATCH_SIZE = 16 \n",
    "\n",
    "X_forget_dataset = torch.utils.data.TensorDataset(X_forget, y_forget)\n",
    "X_retain_dataset = torch.utils.data.TensorDataset(X_retain, y_retain)\n",
    "\n",
    "print(f'{len(X_forget_dataset) = }, {len(X_retain_dataset) = }')\n",
    "print(f'{first_responsive_layer = }')\n",
    "\n",
    "unlearner = ZeroShotUnlearner(\n",
    "    u_model, \n",
    "    first_responsive_layer_string= first_responsive_layer,\n",
    "    forget_loader= torch.utils.data.DataLoader(X_forget_dataset, batch_size=BATCH_SIZE, shuffle=True),\n",
    "    retain_loader= torch.utils.data.DataLoader(X_retain_dataset, batch_size=BATCH_SIZE, shuffle=True),\n",
    "    lr = 1e-3,\n",
    "    forget_loss_weight=0.9, \n",
    "    retain_loss_weight=0.1,\n",
    ")\n",
    "\n",
    "tail_model = unlearner.unlearn(epochs=1000)\n",
    "\n",
    "evaluator.evaluate_model(model,Xte, yte)\n",
    "evaluator.evaluate_model(u_model,Xte, yte)\n",
    "acc1 = get_classs_wise_accuracies(model, Xte, yte)\n",
    "acc2 = get_classs_wise_accuracies(u_model, Xte, yte)\n",
    "plot_compare_class_wise_accuracies(acc1 , acc2)"
   ]
  },
  {
   "cell_type": "code",
   "execution_count": 31,
   "metadata": {},
   "outputs": [
    {
     "name": "stdout",
     "output_type": "stream",
     "text": [
      "Xte_forget.shape = torch.Size([3000, 3, 32, 32])\tyte_forget.shape = torch.Size([3000])\n",
      "Xte_retain.shape = torch.Size([7000, 3, 32, 32])\tyte_retain.shape = torch.Size([7000])\n",
      "target_classes = {8, 3, 4}\n",
      "\n",
      "\n",
      "Forget classes:\n",
      "[E] EVALUATION: > accuracy: 0.00%\n",
      "\n",
      "Retain classes:\n",
      "[E] EVALUATION: > accuracy: 80.23%\n",
      "\n"
     ]
    }
   ],
   "source": [
    "def split_dataset_forget_retain(X, y, target_classes, labels = labels):\n",
    "    forget_classes = target_classes\n",
    "    retain_classes = [yi for yi in labels if yi not in target_classes]\n",
    "    \n",
    "    forget_mask = torch.zeros(y.shape[0], dtype=torch.bool).to(device) \n",
    "    retain_mask = torch.zeros(y.shape[0], dtype=torch.bool).to(device)\n",
    "    \n",
    "    for cls in forget_classes:\n",
    "        forget_mask |= y == cls\n",
    "        \n",
    "    for cls in retain_classes:\n",
    "        retain_mask |= y == cls\n",
    "    \n",
    "    X_forget = X[forget_mask]\n",
    "    y_forget = y[forget_mask]\n",
    "    X_retain = X[retain_mask]\n",
    "    y_retain = y[retain_mask]\n",
    "    \n",
    "    return X_forget, y_forget, X_retain, y_retain\n",
    "    \n",
    "\n",
    "Xte_forget, yte_forget, Xte_retain, yte_retain = split_dataset_forget_retain(Xte, yte, target_classes)\n",
    "print(f'{Xte_forget.shape = }\\t{yte_forget.shape = }')\n",
    "print(f'{Xte_retain.shape = }\\t{yte_retain.shape = }')\n",
    "print(f'{target_classes = }')\n",
    "print(f'\\n\\nForget classes:')\n",
    "evaluator.evaluate_model(u_model, Xte_forget, yte_forget)\n",
    "print(f'Retain classes:')\n",
    "evaluator.evaluate_model(u_model, Xte_retain, yte_retain)"
   ]
  },
  {
   "cell_type": "code",
   "execution_count": 34,
   "metadata": {},
   "outputs": [
    {
     "data": {
      "image/png": "[encoded data removed]",
      "text/plain": [
       "<Figure size 1000x500 with 1 Axes>"
      ]
     },
     "metadata": {},
     "output_type": "display_data"
    }
   ],
   "source": [
    "plot_compare_class_wise_accuracies(acc1 , acc2 , 'KarpathyNet - Original vs Unlearned')"
   ]
  }
 ],
 "metadata": {
  "kernelspec": {
   "display_name": "torch",
   "language": "python",
   "name": "python3"
  },
  "language_info": {
   "codemirror_mode": {
    "name": "ipython",
    "version": 3
   },
   "file_extension": ".py",
   "mimetype": "text/x-python",
   "name": "python",
   "nbconvert_exporter": "python",
   "pygments_lexer": "ipython3",
   "version": "3.10.16"
  }
 },
 "nbformat": 4,
 "nbformat_minor": 2
}
