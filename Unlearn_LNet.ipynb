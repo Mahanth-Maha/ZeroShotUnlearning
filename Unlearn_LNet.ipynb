{
 "cells": [
  {
   "cell_type": "markdown",
   "metadata": {},
   "source": [
    "# Unlearn LeNet5 "
   ]
  },
  {
   "cell_type": "markdown",
   "metadata": {},
   "source": [
    "* **Author** : Yalla Mahanth\n",
    "* **SR No** : 24004"
   ]
  },
  {
   "cell_type": "markdown",
   "metadata": {},
   "source": [
    "### imports"
   ]
  },
  {
   "cell_type": "code",
   "execution_count": 2,
   "metadata": {},
   "outputs": [
    {
     "name": "stdout",
     "output_type": "stream",
     "text": [
      "[>] device = cuda:2\n"
     ]
    }
   ],
   "source": [
    "import torch\n",
    "import torch.nn as nn\n",
    "import torch.optim as optim\n",
    "import torch.nn.functional as F\n",
    "import torch.optim.lr_scheduler as lr_scheduler\n",
    "from torch.utils.data import DataLoader, Dataset\n",
    "\n",
    "import os\n",
    "import tqdm\n",
    "import math\n",
    "import json\n",
    "import pickle\n",
    "import pynvml\n",
    "import argparse\n",
    "import numpy as np\n",
    "\n",
    "# from tqdm import tqdm\n",
    "import matplotlib.pyplot as plt\n",
    "from datetime import datetime as dt\n",
    "import matplotlib.gridspec as gridspec\n",
    "\n",
    "\n",
    "def get_best_gpu(verbose = False):\n",
    "    pynvml.nvmlInit()\n",
    "    num_gpus = torch.cuda.device_count()\n",
    "\n",
    "    if num_gpus == 0:\n",
    "        if verbose :\n",
    "            print(\"[!] No CUDA devices found, running on CPU.\")\n",
    "        return 'cpu'\n",
    "\n",
    "    gpu_mem = []\n",
    "    for i in range(num_gpus):\n",
    "        handle = pynvml.nvmlDeviceGetHandleByIndex(i)\n",
    "        mem_info = pynvml.nvmlDeviceGetMemoryInfo(handle)\n",
    "        free_mem = mem_info.free\n",
    "        total_mem = mem_info.total\n",
    "        if verbose:\n",
    "            print(f\"[+] GPU {i}: Total {total_mem / 1e9:.2f} GB, Free {free_mem / 1e9:.2f} GB\")\n",
    "        gpu_mem.append((i, free_mem))\n",
    "\n",
    "    gpu_mem.sort(key=lambda x: x[1], reverse=True)\n",
    "\n",
    "    best_gpu = gpu_mem[0][0]\n",
    "    second_best_gpu = gpu_mem[1][0] if len(gpu_mem) > 1 else best_gpu\n",
    "\n",
    "    selected_gpu = second_best_gpu if best_gpu == 0 else best_gpu\n",
    "\n",
    "    pynvml.nvmlShutdown()\n",
    "    return selected_gpu\n",
    "\n",
    "def set_gpu(manual_set = None, verbose = False):\n",
    "    device_active = 'cuda' if torch.cuda.is_available() else 'cpu'\n",
    "    if device_active == 'cuda':\n",
    "        if verbose:\n",
    "            print('[+] CUDA : available')\n",
    "        try:\n",
    "            if manual_set is not None:\n",
    "                GPU_NUMBER = manual_set\n",
    "            else:\n",
    "                GPU_NUMBER = get_best_gpu(verbose)\n",
    "            if verbose:\n",
    "                print(f'[>] Current Device {torch.cuda.current_device()} -> changing it to {GPU_NUMBER}')\n",
    "            torch.cuda.set_device(GPU_NUMBER)\n",
    "            if verbose:\n",
    "                print(f'[+] Current Device {torch.cuda.current_device()}')\n",
    "        except Exception as e:\n",
    "            if verbose:\n",
    "                print(f'[-] Error Occured while changing GPU ! \\n\\n\\tERROR :{e}\\n\\n')\n",
    "                print(f'[!] CUDA ERR : Couldn\\'t change  -> using CPU {device_active = }')\n",
    "        finally: \n",
    "            pass\n",
    "        print(f'[>] device = cuda:{GPU_NUMBER}')\n",
    "    else :\n",
    "        if verbose:\n",
    "            print(f'[!] CUDA ERR : Not available -> using CPU {device_active = }')\n",
    "        print(f'[>] device = cpu')\n",
    "set_gpu()"
   ]
  },
  {
   "cell_type": "markdown",
   "metadata": {},
   "source": [
    "## MNIST"
   ]
  },
  {
   "cell_type": "code",
   "execution_count": 3,
   "metadata": {},
   "outputs": [
    {
     "data": {
      "text/plain": [
       "((60000, 28, 28), (60000,), (10000, 28, 28), (10000,))"
      ]
     },
     "execution_count": 3,
     "metadata": {},
     "output_type": "execute_result"
    },
    {
     "name": "stdout",
     "output_type": "stream",
     "text": [
      "MNIST DATASET :\n",
      "Xtr.shape = (48000, 28, 28) , ytr.shape = (48000,)\n",
      "Xval.shape = (12000, 28, 28) , yval.shape = (12000,)\n",
      "Xte.shape = (10000, 28, 28) , yte.shape = (10000,)\n"
     ]
    }
   ],
   "source": [
    "mnist_data_folder = './data/MNIST/'\n",
    "labels = np.arange(10)\n",
    "mnist_train_images_file =  mnist_data_folder + f'train-images.idx3-ubyte'\n",
    "mnist_train_labels_file =  mnist_data_folder + f'train-labels.idx1-ubyte'\n",
    "mnist_test_images_file =  mnist_data_folder + f't10k-images.idx3-ubyte'\n",
    "mnist_test_labels_file =  mnist_data_folder + f't10k-labels.idx1-ubyte'\n",
    "\n",
    "# Reading from idx file function code snippet is taken from https://gist.github.com/tylerneylon/ce60e8a06e7506ac45788443f7269e40#file-mnist-py\n",
    "def read_idx(filename):\n",
    "    import struct \n",
    "    with open(filename, 'rb') as f:\n",
    "        zero, data_type, dims = struct.unpack('>HBB', f.read(4))\n",
    "        shape = tuple(struct.unpack('>I', f.read(4))[0] for d in range(dims))\n",
    "        return np.frombuffer(f.read(), dtype=np.uint8).reshape(shape)\n",
    "\n",
    "mnist_train_images = read_idx(mnist_train_images_file)\n",
    "mnist_train_labels = read_idx(mnist_train_labels_file)\n",
    "mnist_test_images = read_idx(mnist_test_images_file)\n",
    "mnist_test_labels = read_idx(mnist_test_labels_file)\n",
    "mnist_train_images.shape ,mnist_train_labels.shape,mnist_test_images.shape ,mnist_test_labels.shape\n",
    "\n",
    "def train_test_split(X,y,test_size = 0.2 , shuffle = True):\n",
    "    if shuffle:\n",
    "        mask = np.random.permutation(len(y))\n",
    "        X = X[mask]\n",
    "        y = y[mask]\n",
    "    split = len(y) - int(len(y) * test_size)\n",
    "    return X[:split],y[:split],X[split:],y[split:]\n",
    "\n",
    "Xtr, ytr, Xval, yval = train_test_split(mnist_train_images, mnist_train_labels, test_size=0.2)\n",
    "Xte , yte = mnist_test_images, mnist_test_labels\n",
    "\n",
    "print(f'MNIST DATASET :')\n",
    "print(f'{Xtr.shape = } , {ytr.shape = }')\n",
    "print(f'{Xval.shape = } , {yval.shape = }')\n",
    "print(f'{Xte.shape = } , {yte.shape = }')\n",
    "\n",
    "Xtr = torch.tensor(Xtr , dtype = torch.float32)\n",
    "ytr = torch.tensor(ytr , dtype = torch.float32)\n",
    "Xval = torch.tensor(Xval , dtype = torch.float32)\n",
    "yval = torch.tensor(yval , dtype = torch.float32)\n",
    "Xte = torch.tensor(Xte , dtype = torch.float32)\n",
    "yte = torch.tensor(yte , dtype = torch.float32)\n",
    "\n",
    "ytr_enc = torch.zeros(ytr.shape[0] , len(labels)) \n",
    "yval_enc = torch.zeros(yval.shape[0] , len(labels))\n",
    "yte_enc = torch.zeros(yte.shape[0] , len(labels))\n",
    "ytr_enc[torch.arange(ytr.shape[0]) , ytr.long()] = 1\n",
    "yval_enc[torch.arange(yval.shape[0]) , yval.long()] = 1\n",
    "yte_enc[torch.arange(yte.shape[0]) , yte.long()] = 1\n",
    "\n",
    "Xtr = Xtr.view(-1,1,28,28)\n",
    "Xval = Xval.view(-1,1,28,28)\n",
    "Xte = Xte.view(-1,1,28,28)\n",
    "\n",
    "device = 'cuda' if torch.cuda.is_available() else 'cpu'\n",
    "if device == 'cuda':\n",
    "    Xtr = Xtr.cuda()\n",
    "    Xval = Xval.cuda()\n",
    "    Xte = Xte.cuda()\n",
    "    ytr_enc = ytr_enc.cuda()\n",
    "    yval_enc = yval_enc.cuda()\n",
    "    yte_enc = yte_enc.cuda()\n",
    "    ytr = ytr.cuda()\n",
    "    yval = yval.cuda()\n",
    "    yte = yte.cuda()    \n",
    "\n",
    "\n",
    "class DatasetMNIST(Dataset):\n",
    "    def __init__(self , X , y , labels = labels, device = device):\n",
    "        # self.X , self.y = self.augmentation(X , y, pixels=2)\n",
    "        self.X,self.y = X, y\n",
    "        self.num_classes = len(labels)\n",
    "        self.labels = np.sort(np.arange(self.num_classes))\n",
    "        self.device = device\n",
    "        \n",
    "    def __len__(self):\n",
    "        return self.X.shape[0]\n",
    "    \n",
    "    def __getitem__(self , idx):\n",
    "        pixs = np.random.randint(1,4)\n",
    "        X_i , y_i = self.random_agumentation(self.X[idx] , self.y[idx] , pixels = pixs)\n",
    "        y_i = F.one_hot(y_i.long() , num_classes = self.num_classes).float()\n",
    "        \n",
    "        if device == 'cuda':\n",
    "            X_i = X_i.cuda()\n",
    "            y_i = y_i.cuda()\n",
    "        \n",
    "        return X_i , y_i\n",
    "    \n",
    "    def random_agumentation(self , X_i , y_i , pixels = 1):\n",
    "        type = np.random.randint(1,2 * 8 + 1) # half of the time : original\n",
    "        if type == 1:\n",
    "            X_Right_shifted = torch.roll(X_i , shifts = pixels , dims = 1)\n",
    "            X_shifted = X_Right_shifted\n",
    "        elif type == 2:\n",
    "            X_Left_shifted = torch.roll(X_i , shifts = -pixels , dims = 1)\n",
    "            X_shifted = X_Left_shifted\n",
    "        elif type == 3:\n",
    "            X_Up_shifted = torch.roll(X_i , shifts = pixels , dims = 0)\n",
    "            X_shifted = X_Up_shifted\n",
    "        elif type == 4:\n",
    "            X_Down_shifted = torch.roll(X_i , shifts = -pixels , dims = 0)\n",
    "            X_shifted = X_Down_shifted\n",
    "        elif type == 5:\n",
    "            X_Right_shifted = torch.roll(X_i , shifts = pixels , dims = 1)\n",
    "            X_shifted = torch.roll(X_Right_shifted , shifts = pixels , dims = 0)\n",
    "        elif type == 6:\n",
    "            X_Left_shifted = torch.roll(X_i , shifts = -pixels , dims = 1)\n",
    "            X_shifted = torch.roll(X_Left_shifted , shifts = -pixels , dims = 0)\n",
    "        elif type == 7:\n",
    "            X_Up_shifted = torch.roll(X_i , shifts = pixels , dims = 0)\n",
    "            X_shifted = torch.roll(X_Up_shifted , shifts = -pixels , dims = 1)\n",
    "        elif type == 8:\n",
    "            X_Down_shifted = torch.roll(X_i , shifts = -pixels , dims = 0)\n",
    "            X_shifted = torch.roll(X_Down_shifted , shifts = pixels , dims = 1)\n",
    "        else:\n",
    "            X_shifted = X_i\n",
    "        \n",
    "        return X_shifted , y_i\n",
    "    "
   ]
  },
  {
   "cell_type": "markdown",
   "metadata": {},
   "source": [
    "## LeNet5"
   ]
  },
  {
   "cell_type": "code",
   "execution_count": 4,
   "metadata": {},
   "outputs": [
    {
     "data": {
      "text/plain": [
       "LeNet5(\n",
       "  (conv1): Conv2d(1, 6, kernel_size=(5, 5), stride=(1, 1), padding=(2, 2))\n",
       "  (pool1): MaxPool2d(kernel_size=2, stride=2, padding=0, dilation=1, ceil_mode=False)\n",
       "  (conv2): Conv2d(6, 16, kernel_size=(5, 5), stride=(1, 1))\n",
       "  (pool2): MaxPool2d(kernel_size=2, stride=2, padding=0, dilation=1, ceil_mode=False)\n",
       "  (flatten): Flatten(start_dim=1, end_dim=-1)\n",
       "  (fc1): Linear(in_features=400, out_features=120, bias=True)\n",
       "  (fc2): Linear(in_features=120, out_features=84, bias=True)\n",
       "  (fc3): Linear(in_features=84, out_features=10, bias=True)\n",
       ")"
      ]
     },
     "execution_count": 4,
     "metadata": {},
     "output_type": "execute_result"
    }
   ],
   "source": [
    "class LeNet5(nn.Module):\n",
    "    \n",
    "    def __init__(self, inp_size = 1, filters = (6 , 16), f_sizes = (5,5) , num_classes = 10):\n",
    "        super(LeNet5,self).__init__()\n",
    "        \n",
    "        self.conv1 = nn.Conv2d(inp_size, filters[0], kernel_size = f_sizes[0], stride = 1, padding = 2)\n",
    "        self.pool1 = nn.MaxPool2d(kernel_size = 2, stride = 2)\n",
    "        \n",
    "        self.conv2 = nn.Conv2d(filters[0], filters[1], kernel_size = f_sizes[1], stride = 1, padding = 0)\n",
    "        self.pool2 = nn.MaxPool2d(kernel_size = 2, stride = 2)\n",
    "        \n",
    "        self.flatten = nn.Flatten()\n",
    "        \n",
    "        self.fc1 = nn.Linear(filters[1]*f_sizes[1]*f_sizes[1], 120 , bias = True )\n",
    "        self.fc2 = nn.Linear(120, 84 , bias = True )\n",
    "        self.fc3 = nn.Linear(84, num_classes, bias = True )\n",
    "        \n",
    "    def forward(self, x):        \n",
    "        x = F.relu(self.conv1(x))\n",
    "        x = self.pool1(x)\n",
    "\n",
    "        x = F.relu(self.conv2(x))\n",
    "        x = self.pool2(x)\n",
    "        \n",
    "        x = self.flatten(x)\n",
    "        \n",
    "        x = F.relu(self.fc1(x))\n",
    "        x = F.relu(self.fc2(x))\n",
    "        x = self.fc3(x)\n",
    "        \n",
    "        return x    \n",
    "\n",
    "    \n",
    "    def predict_proba(self, x):\n",
    "        x = self.forward(x)\n",
    "        return F.softmax(x, dim = -1)\n",
    "\n",
    "    def predict(self, x):\n",
    "        x = self.predict_proba(x)\n",
    "        return torch.argmax(x, dim = -1)\n",
    "    \n",
    "    def accuracy(self, x, y):\n",
    "        y_pred = self.predict(x)\n",
    "        return (y_pred == y).float().mean()\n",
    "\n",
    "\n",
    "net_params = {\n",
    "    'inp_size': 1,\n",
    "    'filters': (6, 16),\n",
    "    'f_sizes': (5, 5),\n",
    "    'num_classes': len(labels)\n",
    "}\n",
    "\n",
    "model = LeNet5(**net_params)\n",
    "model\n"
   ]
  },
  {
   "cell_type": "markdown",
   "metadata": {},
   "source": [
    "## Evaluator"
   ]
  },
  {
   "cell_type": "code",
   "execution_count": 5,
   "metadata": {},
   "outputs": [
    {
     "name": "stdout",
     "output_type": "stream",
     "text": [
      "[E] EVALUATION: > accuracy: 8.75%\n",
      "\n"
     ]
    }
   ],
   "source": [
    "class Evaluator:\n",
    "    \"\"\" Class to handle all the logic concerning the evaluation of trained models.  \"\"\"\n",
    "    def __init__(self, device):\n",
    "        self.device = device\n",
    "\n",
    "    @staticmethod\n",
    "    def accuracy(y_true, y_pred):\n",
    "        \"\"\" Computes the accuracy of the predictions, against a reference set of predictions. \"\"\"\n",
    "        return sum(yi_true == yi_pred for yi_true, yi_pred in zip(y_true, y_pred)) / len(y_pred)\n",
    "\n",
    "    \n",
    "    def evaluate(self, model_path, data, reference_outputs):\n",
    "        \"\"\" Performs the evaluation of a specified model over given data. \"\"\"\n",
    "        model = torch.load(os.path.join(model_path, 'model.pt'), map_location=self.device, weights_only=False)\n",
    "        model.to(self.device)\n",
    "        model.eval()\n",
    "        \n",
    "        generated_outputs = model.predict(data)\n",
    "        accuracy_score = self.accuracy(reference_outputs, generated_outputs)\n",
    "\n",
    "        print(\"[E] EVALUATION:\", \">\", \"accuracy:\", f\"{accuracy_score:.2%}\")\n",
    "        print()\n",
    "    \n",
    "    def evaluate_model(self, model, data, reference_outputs):\n",
    "        \"\"\" Performs the evaluation of a specified model over given data. \"\"\"\n",
    "        model.to(self.device)\n",
    "        model.eval()\n",
    "        \n",
    "        generated_outputs = model.predict(data)\n",
    "        accuracy_score = self.accuracy(reference_outputs, generated_outputs)\n",
    "\n",
    "        print(\"[E] EVALUATION:\", \">\", \"accuracy:\", f\"{accuracy_score:.2%}\")\n",
    "        print()\n",
    "    \n",
    "evaluator = Evaluator(device)\n",
    "evaluator.evaluate_model(model, Xte, yte)"
   ]
  },
  {
   "cell_type": "markdown",
   "metadata": {},
   "source": [
    "## LeNet5 - PreTrained"
   ]
  },
  {
   "cell_type": "code",
   "execution_count": 6,
   "metadata": {},
   "outputs": [
    {
     "name": "stdout",
     "output_type": "stream",
     "text": [
      "[>] loadin ./models/LeNet5_v1_test/checkpoint-18750\n"
     ]
    },
    {
     "data": {
      "text/plain": [
       "<All keys matched successfully>"
      ]
     },
     "execution_count": 6,
     "metadata": {},
     "output_type": "execute_result"
    },
    {
     "data": {
      "text/plain": [
       "LeNet5(\n",
       "  (conv1): Conv2d(1, 6, kernel_size=(5, 5), stride=(1, 1), padding=(2, 2))\n",
       "  (pool1): MaxPool2d(kernel_size=2, stride=2, padding=0, dilation=1, ceil_mode=False)\n",
       "  (conv2): Conv2d(6, 16, kernel_size=(5, 5), stride=(1, 1))\n",
       "  (pool2): MaxPool2d(kernel_size=2, stride=2, padding=0, dilation=1, ceil_mode=False)\n",
       "  (flatten): Flatten(start_dim=1, end_dim=-1)\n",
       "  (fc1): Linear(in_features=400, out_features=120, bias=True)\n",
       "  (fc2): Linear(in_features=120, out_features=84, bias=True)\n",
       "  (fc3): Linear(in_features=84, out_features=10, bias=True)\n",
       ")"
      ]
     },
     "execution_count": 6,
     "metadata": {},
     "output_type": "execute_result"
    }
   ],
   "source": [
    "net_name = 'LeNet5'\n",
    "version_name = 'v1_test'\n",
    "directory = f'./models/{net_name}_{version_name}'\n",
    "\n",
    "if checkpoints := os.listdir(directory):\n",
    "    last_checkpoint = max(map(lambda x: int(x[11:]), filter(lambda x: 'checkpoint-' in x, checkpoints)))\n",
    "    checkpoint_dir = os.path.join(directory, f\"checkpoint-{last_checkpoint}\")\n",
    "    print(f'[>] loadin {checkpoint_dir}')\n",
    "    model.load_state_dict(torch.load(os.path.join(checkpoint_dir, \"model.pt\"),map_location=device))\n",
    "    model.to(device)"
   ]
  },
  {
   "cell_type": "code",
   "execution_count": 7,
   "metadata": {},
   "outputs": [
    {
     "name": "stdout",
     "output_type": "stream",
     "text": [
      "[E] EVALUATION: > accuracy: 99.07%\n",
      "\n"
     ]
    }
   ],
   "source": [
    "evaluator.evaluate_model(model, Xte, yte)"
   ]
  },
  {
   "cell_type": "code",
   "execution_count": null,
   "metadata": {},
   "outputs": [
    {
     "data": {
      "image/png": "[encoded data removed]",
      "text/plain": [
       "<Figure size 1000x500 with 1 Axes>"
      ]
     },
     "metadata": {},
     "output_type": "display_data"
    }
   ],
   "source": [
    "def get_classs_wise_accuracies(model, Xtr, ytr):\n",
    "    accs = {}\n",
    "    for i in list(ytr.unique()):\n",
    "        cls = int(i.item())\n",
    "        mask = ytr == cls \n",
    "        X_cls = Xtr[mask]\n",
    "        y_cls = ytr[mask]\n",
    "        acc = model.accuracy(X_cls, y_cls)\n",
    "        accs[cls] = acc.item()\n",
    "    return accs\n",
    "\n",
    "def plot_class_wise_accuracies(accs):\n",
    "    plt.figure(figsize = (10,5))\n",
    "    plt.bar(accs.keys(), accs.values())\n",
    "    plt.xlabel('Classes')\n",
    "    plt.ylabel('Accuracy')\n",
    "    plt.title('Class wise accuracies')\n",
    "    plt.xticks(list(accs.keys()))\n",
    "    plt.show()\n",
    "\n",
    "\n",
    "plot_class_wise_accuracies(get_classs_wise_accuracies(model, Xtr, ytr))"
   ]
  },
  {
   "cell_type": "markdown",
   "metadata": {},
   "source": [
    "## get responsive layer"
   ]
  },
  {
   "cell_type": "code",
   "execution_count": 9,
   "metadata": {},
   "outputs": [
    {
     "data": {
      "text/plain": [
       "{'conv1': {'input': (1, 1, 28, 28), 'output': (1, 6, 28, 28)},\n",
       " 'pool1': {'input': (1, 6, 28, 28), 'output': (1, 6, 14, 14)},\n",
       " 'conv2': {'input': (1, 6, 14, 14), 'output': (1, 16, 10, 10)},\n",
       " 'pool2': {'input': (1, 16, 10, 10), 'output': (1, 16, 5, 5)},\n",
       " 'flatten': {'input': (1, 16, 5, 5), 'output': (1, 400)},\n",
       " 'fc1': {'input': (1, 400), 'output': (1, 120)},\n",
       " 'fc2': {'input': (1, 120), 'output': (1, 84)},\n",
       " 'fc3': {'input': (1, 84), 'output': (1, 10)},\n",
       " '': {'input': (1, 1, 28, 28), 'output': (1, 10)}}"
      ]
     },
     "execution_count": 9,
     "metadata": {},
     "output_type": "execute_result"
    }
   ],
   "source": [
    "def record_layer_io_shapes(model, input_shape=(1, 1, 28, 28), device='cuda'):\n",
    "    \"\"\"\n",
    "    Records input/output shapes of all modules during a dummy forward pass.\n",
    "    \n",
    "    Returns a dict: layer_name -> {'input': shape, 'output': shape}\n",
    "    \"\"\"\n",
    "    io_shapes = {}\n",
    "    hooks = []\n",
    "\n",
    "    def make_hook(name):\n",
    "        def hook(module, input, output):\n",
    "            io_shapes[name] = {\n",
    "                'input': tuple(input[0].shape),\n",
    "                'output': tuple(output.shape)\n",
    "            }\n",
    "        return hook\n",
    "\n",
    "    model.eval().to(device)\n",
    "\n",
    "    for name, module in model.named_modules():\n",
    "        if isinstance(module, torch.nn.Module):\n",
    "            hooks.append(module.register_forward_hook(make_hook(name)))\n",
    "\n",
    "    dummy_input = torch.randn(*input_shape).to(device)\n",
    "    with torch.no_grad():\n",
    "        model(dummy_input)\n",
    "\n",
    "    for h in hooks:\n",
    "        h.remove()\n",
    "    return io_shapes\n",
    "\n",
    "layer_sizes = record_layer_io_shapes(model)\n",
    "layer_sizes"
   ]
  },
  {
   "cell_type": "code",
   "execution_count": 10,
   "metadata": {},
   "outputs": [
    {
     "name": "stdout",
     "output_type": "stream",
     "text": [
      "layer = 'conv1' max_ele = 0\n",
      "layer = 'pool1' max_ele = 0\n",
      "layer = 'conv2' max_ele = 0\n",
      "layer = 'pool2' max_ele = 0\n",
      "layer = 'flatten' max_ele = 0\n",
      "layer = 'fc1' max_ele = 0\n",
      "layer = 'fc2' max_ele = 0\n",
      "layer = 'fc3' max_ele = 6\n"
     ]
    }
   ],
   "source": [
    "def generate_class_impression_from_activation(model, target_class, layer_name, init_mode='kaiming', num_steps=300, lr=0.1, device='cuda', verbose = False):\n",
    "    model.eval().to(device)\n",
    "\n",
    "    io_shapes = record_layer_io_shapes(model, device=device)\n",
    "    if layer_name not in io_shapes:\n",
    "        raise ValueError(f\"Layer '{layer_name}' not found.\")\n",
    "\n",
    "    activation_shape = io_shapes[layer_name]['input']\n",
    "    if verbose:\n",
    "        print(f\"[+] Shape of activation at input to '{layer_name}': {activation_shape}\")\n",
    "\n",
    "    act_tensor = torch.empty(activation_shape, requires_grad=True, device=device)\n",
    "    if init_mode == 'kaiming':\n",
    "        torch.nn.init.kaiming_normal_(act_tensor)\n",
    "    elif init_mode == 'xavier':\n",
    "        torch.nn.init.xavier_normal_(act_tensor)\n",
    "    elif init_mode == 'normal':\n",
    "        torch.nn.init.normal_(act_tensor, mean=0.0, std=0.02)\n",
    "    else:\n",
    "        raise ValueError(f\"Unsupported init mode: {init_mode}\")\n",
    "\n",
    "    optimizer = torch.optim.Adam([act_tensor], lr=lr)\n",
    "\n",
    "    found = False\n",
    "    tail_layers = []\n",
    "    for name, module in model.named_modules():\n",
    "        if name == layer_name:\n",
    "            found = True\n",
    "        if found and isinstance(module, torch.nn.Module) and name != '':\n",
    "            tail_layers.append(module)\n",
    "    if not tail_layers:\n",
    "        raise RuntimeError(f\"No layers found after {layer_name} to build tail model.\")\n",
    "\n",
    "    tail_net = torch.nn.Sequential(*tail_layers).to(device)\n",
    "\n",
    "\n",
    "    for step in range(num_steps):\n",
    "        optimizer.zero_grad()\n",
    "        output = tail_net(act_tensor)\n",
    "        target_score = output[0, target_class]\n",
    "        loss = -target_score\n",
    "        loss.backward()\n",
    "        optimizer.step()\n",
    "\n",
    "        if step % 50 == 0 and verbose:\n",
    "            print(f\"[{step:03d}] Class {target_class} score: {target_score.item():.4f}\")\n",
    "\n",
    "    final_scores = tail_net(act_tensor)\n",
    "    softmaxes = F.softmax(final_scores, dim=-1)\n",
    "    max_ele = torch.argmax(softmaxes)\n",
    "    if verbose :\n",
    "        print(f'{softmaxes = }\\n{max_ele = }')\n",
    "    \n",
    "    return act_tensor.detach(), activation_shape , max_ele.item()\n",
    "\n",
    "\n",
    "layer_names = list(layer_sizes.keys())[:-1]\n",
    "TARGET_CLS = 6\n",
    "\n",
    "for layer in layer_names:\n",
    "    activation, shape, max_ele = generate_class_impression_from_activation( \n",
    "        model, \n",
    "        target_class=TARGET_CLS, \n",
    "        layer_name=layer, \n",
    "        init_mode='xavier', \n",
    "        num_steps= 1000,\n",
    "        verbose=False\n",
    "    )\n",
    "    print(f'{layer = } {max_ele = }')\n"
   ]
  },
  {
   "cell_type": "code",
   "execution_count": 11,
   "metadata": {},
   "outputs": [
    {
     "data": {
      "text/plain": [
       "({'conv1': 0,\n",
       "  'pool1': 10,\n",
       "  'conv2': 10,\n",
       "  'pool2': 10,\n",
       "  'flatten': 10,\n",
       "  'fc1': 10,\n",
       "  'fc2': 10,\n",
       "  'fc3': 10},\n",
       " ['pool1', 'conv2', 'pool2', 'flatten', 'fc1', 'fc2', 'fc3'],\n",
       " 'pool1')"
      ]
     },
     "execution_count": 11,
     "metadata": {},
     "output_type": "execute_result"
    }
   ],
   "source": [
    "target_class = 7\n",
    "n_attempts = 10\n",
    "threshold = 8/10\n",
    "first_responsive_layer = None\n",
    "\n",
    "all_responses = {}\n",
    "responsive_layers = []\n",
    "for layer in layer_names:\n",
    "    correct = 0\n",
    "    for _ in range(n_attempts):\n",
    "        _, _, max_ele = generate_class_impression_from_activation(model, target_class, layer)\n",
    "        if max_ele == target_class:\n",
    "            correct += 1\n",
    "    if correct >= threshold:\n",
    "        if first_responsive_layer is None:\n",
    "            first_responsive_layer = layer\n",
    "        responsive_layers.append(layer)\n",
    "        \n",
    "    all_responses[layer] = correct\n",
    "\n",
    "all_responses, responsive_layers, first_responsive_layer"
   ]
  },
  {
   "cell_type": "code",
   "execution_count": null,
   "metadata": {},
   "outputs": [
    {
     "name": "stdout",
     "output_type": "stream",
     "text": [
      "⏭️ Skipping non-learnable layer: pool1\n",
      "⏭️ Skipping non-learnable layer: pool2\n",
      "⏭️ Skipping non-learnable layer: flatten\n"
     ]
    },
    {
     "data": {
      "text/plain": [
       "['conv2', 'fc1', 'fc2', 'fc3']"
      ]
     },
     "execution_count": 12,
     "metadata": {},
     "output_type": "execute_result"
    }
   ],
   "source": [
    "def get_learnable_layers(model, responsive_layers):\n",
    "    learnable_layers = []\n",
    "\n",
    "    # For each responsive layer name\n",
    "    for layer_name in responsive_layers:\n",
    "        has_params = False\n",
    "        for name, param in model.named_parameters():\n",
    "            if layer_name in name and param.requires_grad and param.numel() > 0:\n",
    "                has_params = True\n",
    "                break\n",
    "        if has_params:\n",
    "            learnable_layers.append(layer_name)\n",
    "        else:\n",
    "            print(f\"⏭ Skipping non-learnable layer: {layer_name}\")\n",
    "    \n",
    "    return learnable_layers\n",
    "\n",
    "learnable_layers = get_learnable_layers(model, responsive_layers)\n",
    "learnable_layers"
   ]
  },
  {
   "cell_type": "code",
   "execution_count": 13,
   "metadata": {},
   "outputs": [
    {
     "data": {
      "text/plain": [
       "'fc3'"
      ]
     },
     "execution_count": 13,
     "metadata": {},
     "output_type": "execute_result"
    }
   ],
   "source": [
    "first_responsive_layer = learnable_layers[-1]\n",
    "first_responsive_layer"
   ]
  },
  {
   "cell_type": "markdown",
   "metadata": {},
   "source": [
    "## Generate Class Impressions"
   ]
  },
  {
   "cell_type": "code",
   "execution_count": 14,
   "metadata": {},
   "outputs": [
    {
     "name": "stdout",
     "output_type": "stream",
     "text": [
      "path : ./models/LeNet5_v1_test/class_impressions/\n"
     ]
    }
   ],
   "source": [
    "print(f'path : {directory}/class_impressions/')\n",
    "os.makedirs(f'{directory}/class_impressions/',exist_ok=True)"
   ]
  },
  {
   "cell_type": "code",
   "execution_count": 15,
   "metadata": {},
   "outputs": [],
   "source": [
    "def generate_class_impression_dataset(model, target_class, layer_name,  num_samples=500, init_mode='kaiming', num_steps=300, lr=0.1, device='cuda'):\n",
    "    all_activations = []\n",
    "    eps = 1e-9\n",
    "    while len(all_activations) < num_samples:\n",
    "        impression, shape, max_ele = generate_class_impression_from_activation(model, target_class=target_class, layer_name=layer_name, init_mode=init_mode, num_steps=num_steps, lr=lr, device = device)\n",
    "        if max_ele == target_class:\n",
    "            for s in all_activations:\n",
    "                if torch.norm(s - impression) < eps:\n",
    "                    break\n",
    "            else:\n",
    "                all_activations.append(impression)\n",
    "\n",
    "    stacked_tensor = torch.cat(all_activations, dim=0)\n",
    "    save_path = f'{directory}/class_impressions/{layer_name}_class_{target_class}_{num_samples}.pt'\n",
    "    torch.save(stacked_tensor, save_path)\n",
    "    \n",
    "    return save_path"
   ]
  },
  {
   "cell_type": "code",
   "execution_count": null,
   "metadata": {},
   "outputs": [
    {
     "name": "stdout",
     "output_type": "stream",
     "text": [
      "Saved dataset to ./models/LeNet5_v1_test/class_impressions/fc3_class_6_100.pt\n"
     ]
    }
   ],
   "source": [
    "\n",
    "TARGET_CLS = 6\n",
    "NUM_SAMPLES = 100\n",
    "LAYER_FROM = first_responsive_layer\n",
    "INIT_MODE = 'xavier'\n",
    "STEPS_PER_SAMPLE = 1000\n",
    "LEARN_RATE = 0.1\n",
    "\n",
    "# path = generate_class_impression_dataset(\n",
    "#     model=model,\n",
    "#     target_class=TARGET_CLS,\n",
    "#     layer_name=LAYER_FROM,\n",
    "#     num_samples=NUM_SAMPLES,\n",
    "#     init_mode=INIT_MODE,\n",
    "#     num_steps=STEPS_PER_SAMPLE,\n",
    "#     lr=LEARN_RATE,\n",
    "#     device=device\n",
    "# )\n",
    "\n",
    "# print(f\"Saved dataset to {path}\")"
   ]
  },
  {
   "cell_type": "code",
   "execution_count": 17,
   "metadata": {},
   "outputs": [
    {
     "name": "stdout",
     "output_type": "stream",
     "text": [
      "[!] Class impression dataset for class 0 and layer fc3 already exists.\n",
      "[+] cls = np.int64(0) paths[cls] = './models/LeNet5_v1_test/class_impressions/fc3_class_0_100.pt'\n",
      "[!] Class impression dataset for class 1 and layer fc3 already exists.\n",
      "[+] cls = np.int64(1) paths[cls] = './models/LeNet5_v1_test/class_impressions/fc3_class_1_100.pt'\n",
      "[!] Class impression dataset for class 2 and layer fc3 already exists.\n",
      "[+] cls = np.int64(2) paths[cls] = './models/LeNet5_v1_test/class_impressions/fc3_class_2_100.pt'\n",
      "[!] Class impression dataset for class 3 and layer fc3 already exists.\n",
      "[+] cls = np.int64(3) paths[cls] = './models/LeNet5_v1_test/class_impressions/fc3_class_3_100.pt'\n",
      "[!] Class impression dataset for class 4 and layer fc3 already exists.\n",
      "[+] cls = np.int64(4) paths[cls] = './models/LeNet5_v1_test/class_impressions/fc3_class_4_100.pt'\n",
      "[!] Class impression dataset for class 5 and layer fc3 already exists.\n",
      "[+] cls = np.int64(5) paths[cls] = './models/LeNet5_v1_test/class_impressions/fc3_class_5_100.pt'\n",
      "[!] Class impression dataset for class 6 and layer fc3 already exists.\n",
      "[+] cls = np.int64(6) paths[cls] = './models/LeNet5_v1_test/class_impressions/fc3_class_6_100.pt'\n",
      "[!] Class impression dataset for class 7 and layer fc3 already exists.\n",
      "[+] cls = np.int64(7) paths[cls] = './models/LeNet5_v1_test/class_impressions/fc3_class_7_100.pt'\n",
      "[!] Class impression dataset for class 8 and layer fc3 already exists.\n",
      "[+] cls = np.int64(8) paths[cls] = './models/LeNet5_v1_test/class_impressions/fc3_class_8_100.pt'\n",
      "[!] Class impression dataset for class 9 and layer fc3 already exists.\n",
      "[+] cls = np.int64(9) paths[cls] = './models/LeNet5_v1_test/class_impressions/fc3_class_9_100.pt'\n",
      "{np.int64(0): './models/LeNet5_v1_test/class_impressions/fc3_class_0_100.pt', np.int64(1): './models/LeNet5_v1_test/class_impressions/fc3_class_1_100.pt', np.int64(2): './models/LeNet5_v1_test/class_impressions/fc3_class_2_100.pt', np.int64(3): './models/LeNet5_v1_test/class_impressions/fc3_class_3_100.pt', np.int64(4): './models/LeNet5_v1_test/class_impressions/fc3_class_4_100.pt', np.int64(5): './models/LeNet5_v1_test/class_impressions/fc3_class_5_100.pt', np.int64(6): './models/LeNet5_v1_test/class_impressions/fc3_class_6_100.pt', np.int64(7): './models/LeNet5_v1_test/class_impressions/fc3_class_7_100.pt', np.int64(8): './models/LeNet5_v1_test/class_impressions/fc3_class_8_100.pt', np.int64(9): './models/LeNet5_v1_test/class_impressions/fc3_class_9_100.pt'}\n"
     ]
    }
   ],
   "source": [
    "def generate_class_impression(model, target_class, layer_name, directory,  num_samples=500, init_mode='kaiming', num_steps=300, lr=0.1, device='cuda'):\n",
    "    save_path = f'{directory}/class_impressions/{layer_name}_class_{target_class}_{num_samples}.pt'\n",
    "    if os.path.exists(save_path):\n",
    "        print(f\"[!] Class impression dataset for class {target_class} and layer {layer_name} already exists.\")\n",
    "        return save_path\n",
    "    all_activations = []\n",
    "    eps = 1e-9\n",
    "    while len(all_activations) < num_samples:\n",
    "        impression, shape, max_ele = generate_class_impression_from_activation(model, target_class=target_class, layer_name=layer_name, init_mode=init_mode, num_steps=num_steps, lr=lr, device = device)\n",
    "        if max_ele == target_class:\n",
    "            for s in all_activations:\n",
    "                if torch.norm(s - impression) < eps:\n",
    "                    break\n",
    "            else:\n",
    "                all_activations.append(impression)\n",
    "\n",
    "    stacked_tensor = torch.cat(all_activations, dim=0)\n",
    "    torch.save(stacked_tensor, save_path)\n",
    "    \n",
    "    return save_path\n",
    "\n",
    "def generate_cis_for_all_classes(labels, model, layer_name, directory, num_samples=500, init_mode='kaiming', num_steps=300, lr=0.1, device='cuda'):\n",
    "    paths = {}\n",
    "    for cls in list(labels):    \n",
    "        paths[cls] = generate_class_impression(\n",
    "            model=model,\n",
    "            target_class=cls,\n",
    "            layer_name=layer_name,\n",
    "            directory=directory,\n",
    "            num_samples=num_samples,\n",
    "            init_mode=init_mode,\n",
    "            num_steps=num_steps,\n",
    "            lr=lr,\n",
    "            device=device \n",
    "        )\n",
    "        print(f'[+] {cls = } {paths[cls] = }')\n",
    "    return paths \n",
    "\n",
    "\n",
    "NUM_SAMPLES = 100\n",
    "LAYER_NAME = first_responsive_layer\n",
    "INIT_MODE = 'xavier'\n",
    "STEPS_PER_SAMPLE = 1000\n",
    "LEARN_RATE = 0.1\n",
    "\n",
    "paths_cis = generate_cis_for_all_classes(\n",
    "    labels = labels,\n",
    "    model  = model,\n",
    "    directory = directory,\n",
    "    layer_name=LAYER_NAME,\n",
    "    num_samples=NUM_SAMPLES,\n",
    "    init_mode=INIT_MODE,\n",
    "    num_steps=STEPS_PER_SAMPLE,\n",
    "    lr=LEARN_RATE,\n",
    "    device=device,\n",
    ")\n",
    "\n",
    "print(paths_cis)"
   ]
  },
  {
   "cell_type": "code",
   "execution_count": 18,
   "metadata": {},
   "outputs": [
    {
     "name": "stdout",
     "output_type": "stream",
     "text": [
      "{6: './models/LeNet5_v1_test/class_impressions/fc3_class_6_100.pt', 0: './models/LeNet5_v1_test/class_impressions/fc3_class_0_100.pt', 1: './models/LeNet5_v1_test/class_impressions/fc3_class_1_100.pt', 2: './models/LeNet5_v1_test/class_impressions/fc3_class_2_100.pt', 3: './models/LeNet5_v1_test/class_impressions/fc3_class_3_100.pt', 4: './models/LeNet5_v1_test/class_impressions/fc3_class_4_100.pt', 5: './models/LeNet5_v1_test/class_impressions/fc3_class_5_100.pt', 7: './models/LeNet5_v1_test/class_impressions/fc3_class_7_100.pt', 8: './models/LeNet5_v1_test/class_impressions/fc3_class_8_100.pt', 9: './models/LeNet5_v1_test/class_impressions/fc3_class_9_100.pt'}\n"
     ]
    }
   ],
   "source": [
    "def get_class_impression_paths(directory, layer_name, num_samples):\n",
    "    imp_folder = f'{directory}/class_impressions/'\n",
    "    paths_ = os.listdir(imp_folder)\n",
    "    paths = {}\n",
    "    for p in paths_:\n",
    "        k = p.split('_')\n",
    "        cls = int(k[-2])\n",
    "        num_samp = int(k[-1].split('.')[0])\n",
    "        layer = k[0]\n",
    "        if num_samp == num_samples and layer == layer_name:\n",
    "            paths[cls] = f'{imp_folder}{p}'\n",
    "    return paths\n",
    "\n",
    "\n",
    "directory = f'./models/{net_name}_{version_name}'\n",
    "layer_name = first_responsive_layer\n",
    "num_samples = NUM_SAMPLES\n",
    "paths = get_class_impression_paths(directory, layer_name, num_samples)\n",
    "print(paths)\n"
   ]
  },
  {
   "cell_type": "code",
   "execution_count": 19,
   "metadata": {},
   "outputs": [
    {
     "name": "stdout",
     "output_type": "stream",
     "text": [
      "X_forget.shape = torch.Size([400, 84])\ty_forget.shape = torch.Size([400])\n",
      "X_retain.shape = torch.Size([600, 84])\ty_retain.shape = torch.Size([600])\n"
     ]
    }
   ],
   "source": [
    "def get_datasets_from_paths_2(paths, target_classes, labels = labels):\n",
    "    retain_impressions = []\n",
    "    retain_y = []\n",
    "    forget_impressions = []\n",
    "    forget_y = []\n",
    "    for i in list(labels):\n",
    "        cls = int(i.item())\n",
    "        repeated_cls = torch.ones(NUM_SAMPLES , dtype = torch.long , device = device) * cls\n",
    "        cls_impressions = torch.load(paths[cls]).to(device)\n",
    "        if cls in target_classes:\n",
    "            forget_impressions.append(cls_impressions)\n",
    "            forget_y.append(repeated_cls)\n",
    "        else :\n",
    "            retain_impressions.append(cls_impressions)\n",
    "            retain_y.append(repeated_cls)\n",
    "            \n",
    "    X_forget = torch.cat(forget_impressions)\n",
    "    X_retain = torch.cat(retain_impressions)\n",
    "    y_forget = torch.cat(forget_y)\n",
    "    y_retain = torch.cat(retain_y)\n",
    "\n",
    "    return X_forget, y_forget, X_retain, y_retain\n",
    "\n",
    "target_classes = {1,2,3,4}\n",
    "\n",
    "X_forget, y_forget, X_retain, y_retain = get_datasets_from_paths_2(paths , target_classes)\n",
    "print(f'{X_forget.shape = }\\t{y_forget.shape = }')\n",
    "print(f'{X_retain.shape = }\\t{y_retain.shape = }')"
   ]
  },
  {
   "cell_type": "code",
   "execution_count": null,
   "metadata": {},
   "outputs": [
    {
     "data": {
      "text/plain": [
       "(torch.Size([10000, 1, 28, 28]), torch.Size([10000]))"
      ]
     },
     "execution_count": 62,
     "metadata": {},
     "output_type": "execute_result"
    },
    {
     "data": {
      "text/plain": [
       "(torch.Size([5841, 1, 28, 28]), torch.Size([5841]))"
      ]
     },
     "execution_count": 62,
     "metadata": {},
     "output_type": "execute_result"
    }
   ],
   "source": [
    "# def filter_out_classes(X, y, target_classes, device = device):\n",
    "#     if device == 'cuda':\n",
    "#         X_cpu = X.cpu()\n",
    "#         y_cpu = y.cpu()    \n",
    "#     mask = ~torch.isin(y_cpu, torch.tensor(list(target_classes)))\n",
    "#     X_filtered = X_cpu[mask]\n",
    "#     y_filtered = y_cpu[mask]\n",
    "#     if device == 'cuda':\n",
    "#         X_filtered = X_filtered.cuda()\n",
    "#         y_filtered = y_filtered.cuda()\n",
    "#     return X_filtered, y_filtered\n",
    "\n",
    "# Xte.shape, yte.shape\n",
    "\n",
    "# X_filtered, y_filtered = filter_out_classes(Xte, yte, target_classes)\n",
    "# X_filtered.shape, y_filtered.shape"
   ]
  },
  {
   "cell_type": "markdown",
   "metadata": {},
   "source": [
    "## ZeroShotUnlearner"
   ]
  },
  {
   "cell_type": "code",
   "execution_count": null,
   "metadata": {},
   "outputs": [
    {
     "name": "stdout",
     "output_type": "stream",
     "text": [
      "len(X_forget_dataset) = 400, len(X_retain_dataset) = 600\n",
      "first_responsive_layer = 'fc3'\n",
      "✅ Frozen layers before and including: fc3\n"
     ]
    },
    {
     "name": "stdout",
     "output_type": "stream",
     "text": [
      "Epoch [   10/ 1000] | Forget Loss: 1078.507465 | Retain Loss: 1653.346642\n",
      "Epoch [   20/ 1000] | Forget Loss: 1077.336388 | Retain Loss: 1659.154743\n",
      "Epoch [   30/ 1000] | Forget Loss: 1076.166725 | Retain Loss: 1650.775452\n",
      "Epoch [   40/ 1000] | Forget Loss: 1075.003418 | Retain Loss: 1655.847187\n",
      "Epoch [   50/ 1000] | Forget Loss: 1073.846992 | Retain Loss: 1661.610748\n",
      "Epoch [   60/ 1000] | Forget Loss: 1072.693169 | Retain Loss: 1659.087727\n",
      "Epoch [   70/ 1000] | Forget Loss: 1071.545578 | Retain Loss: 1659.874516\n",
      "Epoch [   80/ 1000] | Forget Loss: 1070.406708 | Retain Loss: 1658.003387\n",
      "Epoch [   90/ 1000] | Forget Loss: 1069.277805 | Retain Loss: 1660.225243\n",
      "Epoch [  100/ 1000] | Forget Loss: 1068.157310 | Retain Loss: 1667.323055\n",
      "Epoch [  110/ 1000] | Forget Loss: 1067.040939 | Retain Loss: 1667.970058\n",
      "Epoch [  120/ 1000] | Forget Loss: 1065.930801 | Retain Loss: 1664.867962\n",
      "Epoch [  130/ 1000] | Forget Loss: 1064.828018 | Retain Loss: 1665.898727\n",
      "Epoch [  140/ 1000] | Forget Loss: 1063.732075 | Retain Loss: 1667.114239\n",
      "Epoch [  150/ 1000] | Forget Loss: 1062.643147 | Retain Loss: 1670.161663\n",
      "Epoch [  160/ 1000] | Forget Loss: 1061.559311 | Retain Loss: 1668.475430\n",
      "Epoch [  170/ 1000] | Forget Loss: 1060.483315 | Retain Loss: 1671.498814\n",
      "Epoch [  180/ 1000] | Forget Loss: 1059.416794 | Retain Loss: 1673.646111\n",
      "Epoch [  190/ 1000] | Forget Loss: 1058.359722 | Retain Loss: 1670.438534\n",
      "Epoch [  200/ 1000] | Forget Loss: 1057.307323 | Retain Loss: 1673.873821\n",
      "Epoch [  210/ 1000] | Forget Loss: 1056.258694 | Retain Loss: 1671.347855\n",
      "Epoch [  220/ 1000] | Forget Loss: 1055.217491 | Retain Loss: 1677.116692\n",
      "Epoch [  230/ 1000] | Forget Loss: 1054.182758 | Retain Loss: 1679.619877\n",
      "Epoch [  240/ 1000] | Forget Loss: 1053.157452 | Retain Loss: 1683.774677\n",
      "Epoch [  250/ 1000] | Forget Loss: 1052.137836 | Retain Loss: 1681.990784\n",
      "Epoch [  260/ 1000] | Forget Loss: 1051.122356 | Retain Loss: 1678.498684\n",
      "Epoch [  270/ 1000] | Forget Loss: 1050.114090 | Retain Loss: 1678.225285\n",
      "Epoch [  280/ 1000] | Forget Loss: 1049.114616 | Retain Loss: 1681.236744\n",
      "Epoch [  290/ 1000] | Forget Loss: 1048.121056 | Retain Loss: 1684.805698\n",
      "Epoch [  300/ 1000] | Forget Loss: 1047.130302 | Retain Loss: 1684.722511\n",
      "Epoch [  310/ 1000] | Forget Loss: 1046.141918 | Retain Loss: 1686.931999\n",
      "Epoch [  320/ 1000] | Forget Loss: 1045.161846 | Retain Loss: 1687.013180\n",
      "Epoch [  330/ 1000] | Forget Loss: 1044.188904 | Retain Loss: 1686.878342\n",
      "Epoch [  340/ 1000] | Forget Loss: 1043.222614 | Retain Loss: 1687.838673\n",
      "Epoch [  350/ 1000] | Forget Loss: 1042.262711 | Retain Loss: 1689.931309\n",
      "Epoch [  360/ 1000] | Forget Loss: 1041.308765 | Retain Loss: 1688.992264\n",
      "Epoch [  370/ 1000] | Forget Loss: 1040.360126 | Retain Loss: 1689.463676\n",
      "Epoch [  380/ 1000] | Forget Loss: 1039.421551 | Retain Loss: 1692.454239\n",
      "Epoch [  390/ 1000] | Forget Loss: 1038.487606 | Retain Loss: 1691.764885\n",
      "Epoch [  400/ 1000] | Forget Loss: 1037.558056 | Retain Loss: 1696.515747\n",
      "Epoch [  410/ 1000] | Forget Loss: 1036.633385 | Retain Loss: 1695.618401\n",
      "Epoch [  420/ 1000] | Forget Loss: 1035.716293 | Retain Loss: 1698.111607\n",
      "Epoch [  430/ 1000] | Forget Loss: 1034.803455 | Retain Loss: 1698.478321\n",
      "Epoch [  440/ 1000] | Forget Loss: 1033.897552 | Retain Loss: 1696.649513\n",
      "Epoch [  450/ 1000] | Forget Loss: 1033.001785 | Retain Loss: 1700.353035\n",
      "Epoch [  460/ 1000] | Forget Loss: 1032.110554 | Retain Loss: 1701.674667\n",
      "Epoch [  470/ 1000] | Forget Loss: 1031.225250 | Retain Loss: 1702.158070\n",
      "Epoch [  480/ 1000] | Forget Loss: 1030.342564 | Retain Loss: 1698.655487\n",
      "Epoch [  490/ 1000] | Forget Loss: 1029.464973 | Retain Loss: 1700.115818\n",
      "Epoch [  500/ 1000] | Forget Loss: 1028.594666 | Retain Loss: 1700.007648\n",
      "Epoch [  510/ 1000] | Forget Loss: 1027.729156 | Retain Loss: 1705.245197\n",
      "Epoch [  520/ 1000] | Forget Loss: 1026.870296 | Retain Loss: 1701.701542\n",
      "Epoch [  530/ 1000] | Forget Loss: 1026.018738 | Retain Loss: 1704.264362\n",
      "Epoch [  540/ 1000] | Forget Loss: 1025.169842 | Retain Loss: 1710.054680\n",
      "Epoch [  550/ 1000] | Forget Loss: 1024.323490 | Retain Loss: 1706.497868\n",
      "Epoch [  560/ 1000] | Forget Loss: 1023.479832 | Retain Loss: 1705.623402\n",
      "Epoch [  570/ 1000] | Forget Loss: 1022.640430 | Retain Loss: 1710.267593\n",
      "Epoch [  580/ 1000] | Forget Loss: 1021.805981 | Retain Loss: 1709.620567\n",
      "Epoch [  590/ 1000] | Forget Loss: 1020.982292 | Retain Loss: 1710.598000\n",
      "Epoch [  600/ 1000] | Forget Loss: 1020.163311 | Retain Loss: 1707.780247\n",
      "Epoch [  610/ 1000] | Forget Loss: 1019.352325 | Retain Loss: 1711.531563\n",
      "Epoch [  620/ 1000] | Forget Loss: 1018.547318 | Retain Loss: 1712.753567\n",
      "Epoch [  630/ 1000] | Forget Loss: 1017.746162 | Retain Loss: 1715.491772\n",
      "Epoch [  640/ 1000] | Forget Loss: 1016.949795 | Retain Loss: 1712.625790\n",
      "Epoch [  650/ 1000] | Forget Loss: 1016.156441 | Retain Loss: 1712.991192\n",
      "Epoch [  660/ 1000] | Forget Loss: 1015.365814 | Retain Loss: 1714.378273\n",
      "Epoch [  670/ 1000] | Forget Loss: 1014.578590 | Retain Loss: 1717.143101\n",
      "Epoch [  680/ 1000] | Forget Loss: 1013.793449 | Retain Loss: 1716.606701\n",
      "Epoch [  690/ 1000] | Forget Loss: 1013.014168 | Retain Loss: 1719.095379\n",
      "Epoch [  700/ 1000] | Forget Loss: 1012.241364 | Retain Loss: 1715.586082\n",
      "Epoch [  710/ 1000] | Forget Loss: 1011.475666 | Retain Loss: 1721.167511\n",
      "Epoch [  720/ 1000] | Forget Loss: 1010.711498 | Retain Loss: 1721.155945\n",
      "Epoch [  730/ 1000] | Forget Loss: 1009.951183 | Retain Loss: 1717.703041\n",
      "Epoch [  740/ 1000] | Forget Loss: 1009.199066 | Retain Loss: 1722.744400\n",
      "Epoch [  750/ 1000] | Forget Loss: 1008.457153 | Retain Loss: 1724.164558\n",
      "Epoch [  760/ 1000] | Forget Loss: 1007.719261 | Retain Loss: 1720.428806\n",
      "Epoch [  770/ 1000] | Forget Loss: 1006.985123 | Retain Loss: 1722.767273\n",
      "Epoch [  780/ 1000] | Forget Loss: 1006.253269 | Retain Loss: 1726.160542\n",
      "Epoch [  790/ 1000] | Forget Loss: 1005.525360 | Retain Loss: 1723.375896\n",
      "Epoch [  800/ 1000] | Forget Loss: 1004.802162 | Retain Loss: 1724.445255\n",
      "Epoch [  810/ 1000] | Forget Loss: 1004.083656 | Retain Loss: 1726.998692\n",
      "Epoch [  820/ 1000] | Forget Loss: 1003.369301 | Retain Loss: 1731.149094\n",
      "Epoch [  830/ 1000] | Forget Loss: 1002.656433 | Retain Loss: 1728.827480\n",
      "Epoch [  840/ 1000] | Forget Loss: 1001.947380 | Retain Loss: 1731.459816\n",
      "Epoch [  850/ 1000] | Forget Loss: 1001.242210 | Retain Loss: 1730.720253\n",
      "Epoch [  860/ 1000] | Forget Loss: 1000.545460 | Retain Loss: 1734.153252\n",
      "Epoch [  870/ 1000] | Forget Loss: 999.856915 | Retain Loss: 1729.627182\n",
      "Epoch [  880/ 1000] | Forget Loss: 999.173626 | Retain Loss: 1733.917274\n",
      "Epoch [  890/ 1000] | Forget Loss: 998.492329 | Retain Loss: 1736.167854\n",
      "Epoch [  900/ 1000] | Forget Loss: 997.814342 | Retain Loss: 1732.563026\n",
      "Epoch [  910/ 1000] | Forget Loss: 997.140690 | Retain Loss: 1735.188000\n",
      "Epoch [  920/ 1000] | Forget Loss: 996.472008 | Retain Loss: 1735.078381\n",
      "Epoch [  930/ 1000] | Forget Loss: 995.808514 | Retain Loss: 1736.316067\n",
      "Epoch [  940/ 1000] | Forget Loss: 995.146935 | Retain Loss: 1734.311153\n",
      "Epoch [  950/ 1000] | Forget Loss: 994.487957 | Retain Loss: 1735.710518\n",
      "Epoch [  960/ 1000] | Forget Loss: 993.835693 | Retain Loss: 1737.953064\n",
      "Epoch [  970/ 1000] | Forget Loss: 993.187550 | Retain Loss: 1736.778145\n",
      "Epoch [  980/ 1000] | Forget Loss: 992.542309 | Retain Loss: 1737.700848\n",
      "Epoch [  990/ 1000] | Forget Loss: 991.902866 | Retain Loss: 1742.176796\n",
      "Epoch [ 1000/ 1000] | Forget Loss: 991.265289 | Retain Loss: 1742.620945\n"
     ]
    }
   ],
   "source": [
    "import copy\n",
    "\n",
    "class ZeroShotUnlearner:\n",
    "    def __init__(self, model, forget_loader, retain_loader, first_responsive_layer_string, forget_loss_weight=0.9, retain_loss_weight=0.1, lr=1e-4, device='cuda', clip_grad=5.0): \n",
    "        self.device = device\n",
    "        self.model = model.to(device)\n",
    "        self.forget_loader = forget_loader\n",
    "        self.retain_loader = retain_loader\n",
    "        self.forget_loss_weight = forget_loss_weight\n",
    "        self.retain_loss_weight = retain_loss_weight\n",
    "        self.clip_grad = clip_grad\n",
    "\n",
    "        \n",
    "        self.tail_model = self._get_tail_model(first_responsive_layer_string).to(device)\n",
    "\n",
    "        \n",
    "        self._freeze_before(first_responsive_layer_string)\n",
    "\n",
    "        \n",
    "        self.optimizer = optim.AdamW(self.tail_model.parameters(), lr=lr)\n",
    "        self.criterion = nn.CrossEntropyLoss(label_smoothing=0.1)\n",
    "\n",
    "    def _get_tail_model(self, layer_string):\n",
    "        modules = []\n",
    "        include = False\n",
    "        for name, module in self.model.named_children():\n",
    "            if layer_string in name:\n",
    "                include = True  \n",
    "            if include:\n",
    "                modules.append(module)\n",
    "        if not modules:\n",
    "            print(f\"[-] No layers found after {layer_string} to build tail model.\")\n",
    "            \n",
    "        return nn.Sequential(*modules)\n",
    "\n",
    "    def _freeze_before(self, layer_string):\n",
    "        freeze = True\n",
    "        for name, param in self.model.named_parameters():\n",
    "            if freeze:\n",
    "                param.requires_grad = False\n",
    "            if layer_string in name:\n",
    "                freeze = False\n",
    "        print(f\"[+] Frozen layers before and including: {layer_string}\")\n",
    "\n",
    "    def unlearn(self, epochs=10):\n",
    "        self.model.eval()\n",
    "        self.tail_model.train()\n",
    "\n",
    "        for ep in range(epochs):\n",
    "            total_f_loss, total_r_loss = 0.0, 0.0\n",
    "\n",
    "            \n",
    "            for x_f, y_f in self.forget_loader:\n",
    "                x_f, y_f = x_f.to(self.device), y_f.to(self.device)\n",
    "                out_f = self.tail_model(x_f)\n",
    "                loss_f = self.criterion(out_f, y_f)\n",
    "\n",
    "                \n",
    "                loss =  self.forget_loss_weight * loss_f\n",
    "\n",
    "                self.optimizer.zero_grad()\n",
    "                loss.backward()\n",
    "                nn.utils.clip_grad_norm_(self.tail_model.parameters(), self.clip_grad)\n",
    "                self.optimizer.step()\n",
    "\n",
    "                total_f_loss += loss_f.item()\n",
    "\n",
    "            \n",
    "            for x_r, y_r in self.retain_loader:\n",
    "                x_r, y_r = x_r.to(self.device), y_r.to(self.device)\n",
    "                out_r = self.tail_model(x_r)\n",
    "                loss_r = self.criterion(out_r, y_r)\n",
    "\n",
    "                \n",
    "                loss = - self.retain_loss_weight * loss_r\n",
    "                \n",
    "                self.optimizer.zero_grad()\n",
    "                loss.backward()\n",
    "                nn.utils.clip_grad_norm_(self.tail_model.parameters(), self.clip_grad)\n",
    "                self.optimizer.step()\n",
    "\n",
    "                total_r_loss += loss_r.item()\n",
    "            if (ep+1) % 10 == 0:\n",
    "                print(f\"Epoch [{ep+1:5d}/{epochs:5d}] | Forget Loss: {total_f_loss:.6f} | Retain Loss: {total_r_loss:.6f}\")\n",
    "\n",
    "        return self.tail_model\n",
    "\n",
    "\n",
    "\n",
    "u_model = copy.deepcopy(model)\n",
    "BATCH_SIZE = 16 \n",
    "\n",
    "X_forget_dataset = torch.utils.data.TensorDataset(X_forget, y_forget)\n",
    "X_retain_dataset = torch.utils.data.TensorDataset(X_retain, y_retain)\n",
    "\n",
    "print(f'{len(X_forget_dataset) = }, {len(X_retain_dataset) = }')\n",
    "print(f'{first_responsive_layer = }')\n",
    "\n",
    "unlearner = ZeroShotUnlearner(\n",
    "    u_model, \n",
    "    first_responsive_layer_string= first_responsive_layer,\n",
    "    forget_loader= torch.utils.data.DataLoader(X_forget_dataset, batch_size=BATCH_SIZE, shuffle=True),\n",
    "    retain_loader= torch.utils.data.DataLoader(X_retain_dataset, batch_size=BATCH_SIZE, shuffle=True),\n",
    "    lr = 1e-3,\n",
    "    forget_loss_weight=0.9, \n",
    "    retain_loss_weight=0.1,\n",
    ")\n",
    "\n",
    "tail_model = unlearner.unlearn(epochs=1000)"
   ]
  },
  {
   "cell_type": "code",
   "execution_count": 20,
   "metadata": {},
   "outputs": [
    {
     "data": {
      "text/plain": [
       "(torch.Size([4159, 1, 28, 28]),\n",
       " torch.Size([4159]),\n",
       " torch.Size([5841, 1, 28, 28]),\n",
       " torch.Size([5841]))"
      ]
     },
     "execution_count": 20,
     "metadata": {},
     "output_type": "execute_result"
    }
   ],
   "source": [
    "def split_dataset_based_on_classes(X,y, classes, device = device):\n",
    "    if device == 'cuda':\n",
    "        X_cpu = X.cpu()\n",
    "        y_cpu = y.cpu()\n",
    "    mask = torch.isin(y_cpu, torch.tensor(list(target_classes)))\n",
    "    X_with = X_cpu[mask]\n",
    "    y_with = y_cpu[mask]\n",
    "    X_without = X_cpu[~mask]\n",
    "    y_without = y_cpu[~mask]\n",
    "    if device == 'cuda':\n",
    "        X_with = X_with.cuda()\n",
    "        y_with = y_with.cuda()\n",
    "        X_without = X_without.cuda()\n",
    "        y_without = y_without.cuda()\n",
    "        \n",
    "    return X_with, y_with, X_without, y_without\n",
    "    \n",
    "X_with, y_with, X_without, y_without = split_dataset_based_on_classes(Xte, yte, target_classes)\n",
    "X_with.shape, y_with.shape, X_without.shape, y_without.shape"
   ]
  },
  {
   "cell_type": "markdown",
   "metadata": {},
   "source": [
    "## Result - plots"
   ]
  },
  {
   "cell_type": "code",
   "execution_count": null,
   "metadata": {},
   "outputs": [],
   "source": [
    "def plot_compare_class_wise_accuracies(accs1, accs2, text = ''):\n",
    "    plt.figure(figsize = (10,5))\n",
    "    plt.bar(np.array(list(accs1.keys())) - 0.2, accs1.values(), width = 0.4, label = 'Original Model')\n",
    "    plt.bar(np.array(list(accs2.keys())) + 0.2, accs2.values(), width = 0.4, label = 'Unlearned Model')\n",
    "    plt.xlabel('Classes')\n",
    "    plt.ylabel('Accuracy')\n",
    "    plt.title(f'Class wise accuracies {text}')\n",
    "    plt.legend()\n",
    "    plt.xticks(list(accs1.keys()))\n",
    "    plt.show()"
   ]
  },
  {
   "cell_type": "code",
   "execution_count": 26,
   "metadata": {},
   "outputs": [
    {
     "name": "stdout",
     "output_type": "stream",
     "text": [
      "[E] EVALUATION: > accuracy: 99.07%\n",
      "\n",
      "[E] EVALUATION: > accuracy: 0.00%\n",
      "\n",
      "[E] EVALUATION: > accuracy: 99.44%\n",
      "\n",
      "[E] EVALUATION: > accuracy: 58.08%\n",
      "\n"
     ]
    },
    {
     "data": {
      "image/png": "[encoded data removed]",
      "text/plain": [
       "<Figure size 1000x500 with 1 Axes>"
      ]
     },
     "metadata": {},
     "output_type": "display_data"
    }
   ],
   "source": [
    "evaluator.evaluate_model(model,Xte, yte)\n",
    "\n",
    "evaluator.evaluate_model(u_model, X_with, y_with)\n",
    "evaluator.evaluate_model(u_model, X_without, y_without)\n",
    "evaluator.evaluate_model(u_model, Xte, yte)\n",
    "\n",
    "acc1 = get_classs_wise_accuracies(model, Xte, yte)\n",
    "acc2 = get_classs_wise_accuracies(u_model, Xte, yte)\n",
    "plot_compare_class_wise_accuracies(acc1 , acc2, ': LeNet5 - Original vs Unlearned')"
   ]
  }
 ],
 "metadata": {
  "kernelspec": {
   "display_name": "maha",
   "language": "python",
   "name": "maha"
  },
  "language_info": {
   "codemirror_mode": {
    "name": "ipython",
    "version": 3
   },
   "file_extension": ".py",
   "mimetype": "text/x-python",
   "name": "python",
   "nbconvert_exporter": "python",
   "pygments_lexer": "ipython3",
   "version": "3.10.16"
  }
 },
 "nbformat": 4,
 "nbformat_minor": 2
}
